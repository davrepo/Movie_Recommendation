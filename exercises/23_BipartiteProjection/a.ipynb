{
 "cells": [
  {
   "cell_type": "markdown",
   "metadata": {},
   "source": [
    "Perform a network projection of this bipartite network using `simple weights`. The unipartite projection should only contain nodes of type 1 (|V1| = 248). How dense is the projection?"
   ]
  },
  {
   "cell_type": "code",
   "execution_count": 1,
   "metadata": {},
   "outputs": [],
   "source": [
    "import networkx as nx\n",
    "\n",
    "# Load the data\n",
    "G = nx.read_edgelist(\"data.txt\")\n",
    "\n",
    "# Let's figure out which node is of which type\n",
    "nodes = nx.algorithms.bipartite.basic.sets(G)\n",
    "rows = sorted(list(nodes[0]))\n",
    "cols = sorted(list(nodes[1]))"
   ]
  },
  {
   "cell_type": "code",
   "execution_count": 2,
   "metadata": {},
   "outputs": [
    {
     "name": "stderr",
     "output_type": "stream",
     "text": [
      "c:\\Users\\jackh\\AppData\\Local\\Programs\\Python\\Python310\\lib\\site-packages\\scipy\\__init__.py:177: UserWarning: A NumPy version >=1.18.5 and <1.26.0 is required for this version of SciPy (detected version 1.26.1\n",
      "  warnings.warn(f\"A NumPy version >={np_minversion} and <{np_maxversion}\"\n",
      "C:\\Users\\jackh\\AppData\\Local\\Temp\\ipykernel_24072\\2177689248.py:8: FutureWarning: biadjacency_matrix will return a scipy.sparse array instead of a matrix in NetworkX 3.0\n",
      "  T = nx.algorithms.bipartite.matrix.biadjacency_matrix(G, row_order = nodes)\n"
     ]
    }
   ],
   "source": [
    "# We'll project on nodes of type a\n",
    "if \"a1\" in rows:\n",
    "   nodes = rows\n",
    "else:\n",
    "   nodes = cols\n",
    "\n",
    "# Let's get the bipartite adjacency matrix\n",
    "T = nx.algorithms.bipartite.matrix.biadjacency_matrix(G, row_order = nodes)"
   ]
  },
  {
   "cell_type": "code",
   "execution_count": 3,
   "metadata": {},
   "outputs": [],
   "source": [
    "# If we multiply the bipartite adjacency matrix with its transpose we obtain the number of\n",
    "# common ones between two rows, i.e. the number of common neighbors between the nodes.\n",
    "U = T * T.T\n",
    "\n",
    "# We set the diagonal to zero because we don't care about self loops\n",
    "U.setdiag(0)\n",
    "U.eliminate_zeros()"
   ]
  },
  {
   "cell_type": "code",
   "execution_count": 4,
   "metadata": {},
   "outputs": [
    {
     "name": "stdout",
     "output_type": "stream",
     "text": [
      "0.4097231291628575\n"
     ]
    },
    {
     "name": "stderr",
     "output_type": "stream",
     "text": [
      "C:\\Users\\jackh\\AppData\\Local\\Temp\\ipykernel_24072\\1818056177.py:2: DeprecationWarning: \n",
      "\n",
      "The scipy.sparse array containers will be used instead of matrices\n",
      "in Networkx 3.0. Use `from_scipy_sparse_array` instead.\n",
      "  G = nx.from_scipy_sparse_matrix(U)\n"
     ]
    }
   ],
   "source": [
    "# We get the projected graph back. We relabel to recover the original node IDs\n",
    "G = nx.from_scipy_sparse_matrix(U)\n",
    "G = nx.relabel_nodes(G, {i: nodes[i] for i in range(len(nodes))})\n",
    "\n",
    "# Graph is super dense! 40%\n",
    "print(nx.density(G))"
   ]
  },
  {
   "cell_type": "markdown",
   "metadata": {},
   "source": [
    "Perform a network projection of the bipartite network used for Exercise 23.1 using `cosine and Pearson weights`. What is the Pearson correlation of these weights compared with the ones from the previous question?"
   ]
  },
  {
   "cell_type": "code",
   "execution_count": 5,
   "metadata": {},
   "outputs": [],
   "source": [
    "import numpy as np \n",
    "import pandas as pd\n",
    "import networkx as nx\n",
    "from sklearn.metrics import pairwise_distances\n",
    "\n",
    "# We make the code from the previous question into its own function\n",
    "def simple(network, nodes):\n",
    "   T = nx.algorithms.bipartite.matrix.biadjacency_matrix(network, row_order = nodes)\n",
    "   U = T * T.T\n",
    "   U.setdiag(0)\n",
    "   U.eliminate_zeros()\n",
    "   G = nx.from_scipy_sparse_matrix(U)\n",
    "   return nx.relabel_nodes(G, {i: nodes[i] for i in range(len(nodes))})"
   ]
  },
  {
   "cell_type": "code",
   "execution_count": 6,
   "metadata": {},
   "outputs": [],
   "source": [
    "# We make functions to calculate alternative projections. The scheme is the same:\n",
    "# calculate pairwise distances from the bipartite adjacency matrix and make them\n",
    "# into similarity measures.\n",
    "def cosine(network, nodes):\n",
    "   T = nx.algorithms.bipartite.matrix.biadjacency_matrix(network, row_order = nodes)\n",
    "   # Since this is a distance, we take the inverse to make it into a similarity.\n",
    "   # Maximum possible cosine distance is 1, so we take one minus it. If the two nodes\n",
    "   # were identical, this measure equals to 1, if they were the maximum posible far\n",
    "   # apart, this measure is zero.\n",
    "   j_dist = 1.0 - pairwise_distances(T, metric = \"cosine\", n_jobs = -1)\n",
    "   np.fill_diagonal(j_dist, 0)\n",
    "   G = nx.from_numpy_matrix(j_dist)\n",
    "   return nx.relabel_nodes(G, {i: nodes[i] for i in range(len(nodes))})\n",
    "\n",
    "def pearson(network, nodes):\n",
    "   T = nx.algorithms.bipartite.matrix.biadjacency_matrix(network, row_order = nodes)\n",
    "   # Correlation distance maximum is 2 (corresponding to pearson correlation of -1).\n",
    "   j_dist = (2.0 - pairwise_distances(T.todense(), metric = \"correlation\", n_jobs = -1)) / 2\n",
    "   np.fill_diagonal(j_dist, 0)\n",
    "   # We remove all edges between nodes negatively correlated with each other.\n",
    "   j_dist[j_dist < .5] = 0\n",
    "   G = nx.from_numpy_matrix(j_dist)\n",
    "   return nx.relabel_nodes(G, {i: nodes[i] for i in range(len(nodes))})"
   ]
  },
  {
   "cell_type": "code",
   "execution_count": 8,
   "metadata": {},
   "outputs": [],
   "source": [
    "# Load the data and get the correct node list\n",
    "G = nx.read_edgelist(\"data.txt\")\n",
    "nodes = nx.algorithms.bipartite.basic.sets(G)\n",
    "rows = sorted(list(nodes[0]))\n",
    "cols = sorted(list(nodes[1]))\n",
    "if \"a1\" in rows:\n",
    "   nodes = rows\n",
    "else:\n",
    "   nodes = cols"
   ]
  },
  {
   "cell_type": "code",
   "execution_count": 9,
   "metadata": {},
   "outputs": [
    {
     "name": "stderr",
     "output_type": "stream",
     "text": [
      "C:\\Users\\jackh\\AppData\\Local\\Temp\\ipykernel_24072\\1070808934.py:8: FutureWarning: biadjacency_matrix will return a scipy.sparse array instead of a matrix in NetworkX 3.0\n",
      "  T = nx.algorithms.bipartite.matrix.biadjacency_matrix(network, row_order = nodes)\n",
      "C:\\Users\\jackh\\AppData\\Local\\Temp\\ipykernel_24072\\1070808934.py:12: DeprecationWarning: \n",
      "\n",
      "The scipy.sparse array containers will be used instead of matrices\n",
      "in Networkx 3.0. Use `from_scipy_sparse_array` instead.\n",
      "  G = nx.from_scipy_sparse_matrix(U)\n",
      "C:\\Users\\jackh\\AppData\\Local\\Temp\\ipykernel_24072\\3925342815.py:5: FutureWarning: biadjacency_matrix will return a scipy.sparse array instead of a matrix in NetworkX 3.0\n",
      "  T = nx.algorithms.bipartite.matrix.biadjacency_matrix(network, row_order = nodes)\n",
      "C:\\Users\\jackh\\AppData\\Local\\Temp\\ipykernel_24072\\3925342815.py:16: FutureWarning: biadjacency_matrix will return a scipy.sparse array instead of a matrix in NetworkX 3.0\n",
      "  T = nx.algorithms.bipartite.matrix.biadjacency_matrix(network, row_order = nodes)\n",
      "c:\\Users\\jackh\\AppData\\Local\\Programs\\Python\\Python310\\lib\\site-packages\\sklearn\\utils\\validation.py:727: FutureWarning: np.matrix usage is deprecated in 1.0 and will raise a TypeError in 1.2. Please convert to a numpy array with np.asarray. For more information see: https://numpy.org/doc/stable/reference/generated/numpy.matrix.html\n",
      "  warnings.warn(\n"
     ]
    }
   ],
   "source": [
    "G_simple = simple(G, nodes)\n",
    "G_cosine = cosine(G, nodes)\n",
    "G_pearson = pearson(G, nodes)\n",
    "all_edges = set(G_simple.edges) | set(G_cosine.edges) | set(G_pearson.edges)"
   ]
  },
  {
   "cell_type": "code",
   "execution_count": 10,
   "metadata": {},
   "outputs": [
    {
     "data": {
      "text/html": [
       "<div>\n",
       "<style scoped>\n",
       "    .dataframe tbody tr th:only-of-type {\n",
       "        vertical-align: middle;\n",
       "    }\n",
       "\n",
       "    .dataframe tbody tr th {\n",
       "        vertical-align: top;\n",
       "    }\n",
       "\n",
       "    .dataframe thead th {\n",
       "        text-align: right;\n",
       "    }\n",
       "</style>\n",
       "<table border=\"1\" class=\"dataframe\">\n",
       "  <thead>\n",
       "    <tr style=\"text-align: right;\">\n",
       "      <th></th>\n",
       "      <th>simple</th>\n",
       "      <th>cosine</th>\n",
       "      <th>pearson</th>\n",
       "    </tr>\n",
       "  </thead>\n",
       "  <tbody>\n",
       "    <tr>\n",
       "      <th>simple</th>\n",
       "      <td>1.000000</td>\n",
       "      <td>0.000116</td>\n",
       "      <td>-0.004266</td>\n",
       "    </tr>\n",
       "    <tr>\n",
       "      <th>cosine</th>\n",
       "      <td>0.000116</td>\n",
       "      <td>1.000000</td>\n",
       "      <td>0.976248</td>\n",
       "    </tr>\n",
       "    <tr>\n",
       "      <th>pearson</th>\n",
       "      <td>-0.004266</td>\n",
       "      <td>0.976248</td>\n",
       "      <td>1.000000</td>\n",
       "    </tr>\n",
       "  </tbody>\n",
       "</table>\n",
       "</div>"
      ],
      "text/plain": [
       "           simple    cosine   pearson\n",
       "simple   1.000000  0.000116 -0.004266\n",
       "cosine   0.000116  1.000000  0.976248\n",
       "pearson -0.004266  0.976248  1.000000"
      ]
     },
     "execution_count": 10,
     "metadata": {},
     "output_type": "execute_result"
    }
   ],
   "source": [
    "df = pd.DataFrame(data = [(e,\n",
    "                           G_simple.edges[e][\"weight\"] if e in G_simple.edges else 0, \n",
    "                           G_cosine.edges[e][\"weight\"] if e in G_cosine.edges else 0, \n",
    "                           G_pearson.edges[e][\"weight\"] if e in G_pearson.edges else 0)\n",
    "                         for e in all_edges], columns = (\"edge\", \"simple\", \"cosine\", \"pearson\"))\n",
    "\n",
    "df.set_index(\"edge\").corr()"
   ]
  },
  {
   "cell_type": "markdown",
   "metadata": {},
   "source": [
    "Perform a network projection of the bipartite network used for Exercise 23.1 using `hyperbolic weights`. Draw a scatter plot comparing hyperbolic and simple weights."
   ]
  },
  {
   "cell_type": "code",
   "execution_count": 11,
   "metadata": {},
   "outputs": [],
   "source": [
    "import pandas as pd\n",
    "import networkx as nx\n",
    "from scipy import sparse\n",
    "import matplotlib.pyplot as plt\n",
    "\n",
    "# We make the code from the previous question into its own function\n",
    "def simple(network, nodes):\n",
    "   T = nx.algorithms.bipartite.matrix.biadjacency_matrix(network, row_order = nodes)\n",
    "   U = T * T.T\n",
    "   U.setdiag(0)\n",
    "   U.eliminate_zeros()\n",
    "   G = nx.from_scipy_sparse_matrix(U)\n",
    "   return nx.relabel_nodes(G, {i: nodes[i] for i in range(len(nodes))})"
   ]
  },
  {
   "cell_type": "code",
   "execution_count": 12,
   "metadata": {},
   "outputs": [],
   "source": [
    "# Function calculating hyperbolic weights. basically, we just need to normalize\n",
    "# the bipartite adjacency matrix by its degree, because each neighbo now counts\n",
    "# not as one, but as one over the degree. Then the rest is as before.\n",
    "def hyper(network, nodes):\n",
    "   T = nx.algorithms.bipartite.matrix.biadjacency_matrix(network, row_order = nodes)\n",
    "   T /= T.sum(axis = 0)\n",
    "   T = sparse.csr_matrix(T)\n",
    "   U = T * T.T\n",
    "   U.setdiag(0)\n",
    "   U.eliminate_zeros()\n",
    "   G = nx.from_scipy_sparse_matrix(U)\n",
    "   return nx.relabel_nodes(G, {i: nodes[i] for i in range(len(nodes))})"
   ]
  },
  {
   "cell_type": "code",
   "execution_count": 14,
   "metadata": {},
   "outputs": [],
   "source": [
    "# Load the data and get the correct node list\n",
    "G = nx.read_edgelist(\"data.txt\")\n",
    "nodes = nx.algorithms.bipartite.basic.sets(G)\n",
    "rows = sorted(list(nodes[0]))\n",
    "cols = sorted(list(nodes[1]))\n",
    "if \"a1\" in rows:\n",
    "   nodes = rows\n",
    "else:\n",
    "   nodes = cols"
   ]
  },
  {
   "cell_type": "code",
   "execution_count": 15,
   "metadata": {},
   "outputs": [
    {
     "name": "stderr",
     "output_type": "stream",
     "text": [
      "C:\\Users\\jackh\\AppData\\Local\\Temp\\ipykernel_24072\\1928313432.py:8: FutureWarning: biadjacency_matrix will return a scipy.sparse array instead of a matrix in NetworkX 3.0\n",
      "  T = nx.algorithms.bipartite.matrix.biadjacency_matrix(network, row_order = nodes)\n",
      "C:\\Users\\jackh\\AppData\\Local\\Temp\\ipykernel_24072\\1928313432.py:12: DeprecationWarning: \n",
      "\n",
      "The scipy.sparse array containers will be used instead of matrices\n",
      "in Networkx 3.0. Use `from_scipy_sparse_array` instead.\n",
      "  G = nx.from_scipy_sparse_matrix(U)\n",
      "C:\\Users\\jackh\\AppData\\Local\\Temp\\ipykernel_24072\\3215635778.py:5: FutureWarning: biadjacency_matrix will return a scipy.sparse array instead of a matrix in NetworkX 3.0\n",
      "  T = nx.algorithms.bipartite.matrix.biadjacency_matrix(network, row_order = nodes)\n",
      "C:\\Users\\jackh\\AppData\\Local\\Temp\\ipykernel_24072\\3215635778.py:11: DeprecationWarning: \n",
      "\n",
      "The scipy.sparse array containers will be used instead of matrices\n",
      "in Networkx 3.0. Use `from_scipy_sparse_array` instead.\n",
      "  G = nx.from_scipy_sparse_matrix(U)\n"
     ]
    }
   ],
   "source": [
    "G_simple = simple(G, nodes)\n",
    "G_hyper = hyper(G, nodes)\n",
    "all_edges = set(G_simple.edges) | set(G_hyper.edges)"
   ]
  },
  {
   "cell_type": "code",
   "execution_count": 16,
   "metadata": {},
   "outputs": [
    {
     "data": {
      "image/png": "[encoded data removed]",
      "text/plain": [
       "<Figure size 640x480 with 1 Axes>"
      ]
     },
     "metadata": {},
     "output_type": "display_data"
    }
   ],
   "source": [
    "df = pd.DataFrame(data = [(e,\n",
    "                           G_simple.edges[e][\"weight\"] if e in G_simple.edges else 0, \n",
    "                           G_hyper.edges[e][\"weight\"] if e in G_hyper.edges else 0)\n",
    "                         for e in all_edges], columns = (\"edge\", \"simple\", \"hyper\"))\n",
    "\n",
    "df.plot(kind = \"scatter\", x = \"simple\", y = \"hyper\", color = \"#e41a1c\")\n",
    "plt.show()"
   ]
  }
 ],
 "metadata": {
  "kernelspec": {
   "display_name": "Python 3",
   "language": "python",
   "name": "python3"
  },
  "language_info": {
   "codemirror_mode": {
    "name": "ipython",
    "version": 3
   },
   "file_extension": ".py",
   "mimetype": "text/x-python",
   "name": "python",
   "nbconvert_exporter": "python",
   "pygments_lexer": "ipython3",
   "version": "3.10.10"
  }
 },
 "nbformat": 4,
 "nbformat_minor": 2
}
