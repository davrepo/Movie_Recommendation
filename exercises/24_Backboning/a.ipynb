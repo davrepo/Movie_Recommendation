{
 "cells": [
  {
   "cell_type": "markdown",
   "metadata": {},
   "source": [
    "Plot the CCDF edge weight distribution of this network. Calculate its average and standard deviation. NOTE: this is a directed graph!"
   ]
  },
  {
   "cell_type": "code",
   "execution_count": 1,
   "metadata": {},
   "outputs": [
    {
     "data": {
      "image/png": "[encoded data removed]",
      "text/plain": [
       "<Figure size 640x480 with 1 Axes>"
      ]
     },
     "metadata": {},
     "output_type": "display_data"
    }
   ],
   "source": [
    "import numpy as np\n",
    "import pandas as pd\n",
    "import networkx as nx\n",
    "from collections import Counter\n",
    "import matplotlib.pyplot as plt\n",
    "\n",
    "# Load the data\n",
    "G = nx.read_edgelist(\"data.txt\", data = [(\"weight\", float),], create_using = nx.DiGraph())\n",
    "\n",
    "# Get the weights\n",
    "edgeweights = list(dict(nx.get_edge_attributes(G, \"weight\")).values())\n",
    "\n",
    "# Let's use our degree CCDF code for the edge weights\n",
    "wd = pd.DataFrame(list(Counter(edgeweights).items()), columns = (\"weight\", \"count\")).sort_values(by = \"weight\")\n",
    "ccdf = wd.sort_values(by = \"weight\", ascending = False)\n",
    "ccdf[\"cumsum\"] = ccdf[\"count\"].cumsum()\n",
    "ccdf[\"ccdf\"] = ccdf[\"cumsum\"] / ccdf[\"count\"].sum()\n",
    "ccdf = ccdf[[\"weight\", \"ccdf\"]].sort_values(by = \"weight\")\n",
    "ccdf.plot(kind = \"line\", x = \"weight\", y = \"ccdf\", color = \"#e41a1c\", loglog = True)\n",
    "plt.show()"
   ]
  },
  {
   "cell_type": "code",
   "execution_count": 2,
   "metadata": {},
   "outputs": [
    {
     "name": "stdout",
     "output_type": "stream",
     "text": [
      "Edge weight average: 17191.3325\n",
      "Edge weight stdev: 149924.3810\n"
     ]
    }
   ],
   "source": [
    "# Average & stdev of the weights\n",
    "edgeweights = np.array(edgeweights)\n",
    "print(\"Edge weight average: %1.4f\" % np.mean(edgeweights))\n",
    "print(\"Edge weight stdev: %1.4f\" % np.std(edgeweights))"
   ]
  },
  {
   "cell_type": "markdown",
   "metadata": {},
   "source": [
    "What is the minimum statistically significant edge weight (the one two standard deviations higher than the average) of the network from Exercise 24.1? How many edges would you keep if you were to set that as the threshold?"
   ]
  },
  {
   "cell_type": "code",
   "execution_count": 3,
   "metadata": {},
   "outputs": [],
   "source": [
    "# Calculate average & stdev\n",
    "edgeweights = np.array(edgeweights)\n",
    "avg = np.mean(edgeweights)\n",
    "std = np.std(edgeweights)"
   ]
  },
  {
   "cell_type": "code",
   "execution_count": 4,
   "metadata": {},
   "outputs": [
    {
     "name": "stdout",
     "output_type": "stream",
     "text": [
      "Minimum threshold: 317040.1\n"
     ]
    }
   ],
   "source": [
    "# Minimum threshold weight\n",
    "threshold = avg + (2 * std)\n",
    "print(\"Minimum threshold: %1.1f\" % threshold)"
   ]
  },
  {
   "cell_type": "code",
   "execution_count": 5,
   "metadata": {},
   "outputs": [
    {
     "name": "stdout",
     "output_type": "stream",
     "text": [
      "Edges kept: 107\n"
     ]
    }
   ],
   "source": [
    "# Counting edges above the threshold\n",
    "edges_kept = 0\n",
    "for e in G.edges(data = True):\n",
    "   if e[2][\"weight\"] >= threshold:\n",
    "      edges_kept += 1\n",
    "\n",
    "print(\"Edges kept: %d\" % edges_kept)\n",
    "# Not that many!"
   ]
  },
  {
   "cell_type": "markdown",
   "metadata": {},
   "source": [
    "Can you calculate the doubly stochastic adjacency matrix of the network from Exercise 24.1? Does the calculation eventually converge? (Limit the normalization attempts to 1,000. If by 1,000 normalizations you don't have a doubly stochastic matrix, the calculation didn't converge)"
   ]
  },
  {
   "cell_type": "code",
   "execution_count": 6,
   "metadata": {},
   "outputs": [],
   "source": [
    "# Let's start by getting the adjacency matrix\n",
    "A = nx.to_numpy_matrix(G)"
   ]
  },
  {
   "cell_type": "code",
   "execution_count": 7,
   "metadata": {},
   "outputs": [
    {
     "name": "stdout",
     "output_type": "stream",
     "text": [
      "Calculation converged. Here's A:\n",
      "[[0.00000000e+00 9.29197199e-07 9.75734853e-05 ... 0.00000000e+00\n",
      "  0.00000000e+00 0.00000000e+00]\n",
      " [0.00000000e+00 0.00000000e+00 8.73760713e-04 ... 0.00000000e+00\n",
      "  0.00000000e+00 0.00000000e+00]\n",
      " [0.00000000e+00 1.46183715e-03 0.00000000e+00 ... 0.00000000e+00\n",
      "  0.00000000e+00 0.00000000e+00]\n",
      " ...\n",
      " [0.00000000e+00 0.00000000e+00 4.05688025e-05 ... 0.00000000e+00\n",
      "  0.00000000e+00 0.00000000e+00]\n",
      " [0.00000000e+00 0.00000000e+00 2.59041160e-03 ... 0.00000000e+00\n",
      "  0.00000000e+00 0.00000000e+00]\n",
      " [0.00000000e+00 6.32560627e-06 3.66899981e-03 ... 0.00000000e+00\n",
      "  0.00000000e+00 0.00000000e+00]]\n"
     ]
    }
   ],
   "source": [
    "# If we want to get the doubly stochastic, we need to alternatively\n",
    "# normalize by row and column sum. We stop only when the deviation\n",
    "# from one is very little, thus the row/column sum is very close to\n",
    "# one. We also need to keep track of how many times we performed\n",
    "# the normalization. If we keep going back and forth between the\n",
    "# same two values, it means we're not converging.\n",
    "attempts = 0\n",
    "row_sums = A.sum(axis = 1)\n",
    "while np.std(A.sum(axis = 1)) > 1e-12:\n",
    "   A /= A.sum(axis = 1)\n",
    "   A /= A.sum(axis = 0)\n",
    "   attempts += 1\n",
    "   if attempts > 1000:\n",
    "      print(\"Calculation didn't converge. The matrix cannot be made doubly stochastic. Aborting.\")\n",
    "      break\n",
    "\n",
    "print(\"Calculation converged. Here's A:\")\n",
    "print(A)\n",
    "# YES! Calculation converges! Phew!"
   ]
  },
  {
   "cell_type": "markdown",
   "metadata": {},
   "source": [
    "How many edges would you keep in the network from Exercise 24.1 if you were to return the doubly stochastic backbone including all nodes in the network in a single (weakly) connected component with the minimum number of edges?"
   ]
  },
  {
   "cell_type": "code",
   "execution_count": 11,
   "metadata": {},
   "outputs": [],
   "source": [
    "# Load the data\n",
    "G = nx.read_edgelist(\"data.txt\", data = [(\"weight\", float),], create_using = nx.DiGraph())\n",
    "original_nodes = len(G.nodes)"
   ]
  },
  {
   "cell_type": "code",
   "execution_count": 8,
   "metadata": {},
   "outputs": [],
   "source": [
    "# Let's make the adjacency matrix doubly stochastic\n",
    "attempts = 0\n",
    "A = nx.to_numpy_matrix(G)\n",
    "row_sums = A.sum(axis = 1)\n",
    "while np.std(A.sum(axis = 1)) > 1e-12:\n",
    "   A /= A.sum(axis = 1)\n",
    "   A /= A.sum(axis = 0)\n",
    "   attempts += 1\n",
    "   if attempts > 1000:\n",
    "      print(\"Calculation didn't converge. The matrix cannot be made doubly stochastic. Aborting.\")\n",
    "      break"
   ]
  },
  {
   "cell_type": "code",
   "execution_count": 9,
   "metadata": {},
   "outputs": [],
   "source": [
    "# For convenience, let's make it into a pandas dataframe\n",
    "df = pd.DataFrame(A).unstack().reset_index()\n",
    "df.columns = (\"source\", \"target\", \"weight\")\n",
    "df = df[df[\"weight\"] > 0]"
   ]
  },
  {
   "cell_type": "code",
   "execution_count": 12,
   "metadata": {},
   "outputs": [
    {
     "name": "stdout",
     "output_type": "stream",
     "text": [
      "Edges kept: 377\n"
     ]
    }
   ],
   "source": [
    "# We make an empty graph\n",
    "G = nx.DiGraph()\n",
    "\n",
    "# We sort edge weights in descending weight order\n",
    "df = df.sort_values(by = \"weight\", ascending = False)\n",
    "\n",
    "# Now we add one edge at a time. We stop when all nodes have at least one edge and they are all\n",
    "# part of the same (weakly) connected component\n",
    "i = 0\n",
    "while nx.number_weakly_connected_components(G) != 1 or nx.number_of_nodes(G) < original_nodes:\n",
    "   edge = df.iloc[i]\n",
    "   G.add_edge(edge[\"source\"], edge[\"target\"], weight = edge[\"weight\"])\n",
    "   i += 1\n",
    "\n",
    "print(\"Edges kept: %d\" % len(G.edges))\n",
    "# A bit better than naive thresholding!"
   ]
  }
 ],
 "metadata": {
  "kernelspec": {
   "display_name": "Python 3",
   "language": "python",
   "name": "python3"
  },
  "language_info": {
   "codemirror_mode": {
    "name": "ipython",
    "version": 3
   },
   "file_extension": ".py",
   "mimetype": "text/x-python",
   "name": "python",
   "nbconvert_exporter": "python",
   "pygments_lexer": "ipython3",
   "version": "3.10.10"
  }
 },
 "nbformat": 4,
 "nbformat_minor": 2
}
