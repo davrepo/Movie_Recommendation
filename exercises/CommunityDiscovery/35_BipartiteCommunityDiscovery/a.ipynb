{
 "cells": [
  {
   "cell_type": "markdown",
   "metadata": {},
   "source": [
    "This network is `bipartite`. Project it into unipartite and find five communities with the `Girvan-Newman edge betweenness algorithm` (repeat for both node types, so you find a total of ten communities). What is the `NMI` with this partition?"
   ]
  },
  {
   "cell_type": "code",
   "execution_count": 1,
   "metadata": {},
   "outputs": [
    {
     "name": "stderr",
     "output_type": "stream",
     "text": [
      "c:\\Users\\jackh\\AppData\\Local\\Programs\\Python\\Python310\\lib\\site-packages\\scipy\\__init__.py:177: UserWarning: A NumPy version >=1.18.5 and <1.26.0 is required for this version of SciPy (detected version 1.26.1\n",
      "  warnings.warn(f\"A NumPy version >={np_minversion} and <{np_maxversion}\"\n"
     ]
    },
    {
     "name": "stdout",
     "output_type": "stream",
     "text": [
      "0.385979788035656\n"
     ]
    }
   ],
   "source": [
    "import itertools\n",
    "import pandas as pd\n",
    "import networkx as nx\n",
    "from sklearn.metrics import normalized_mutual_info_score\n",
    "\n",
    "def five_comms_gn(G):\n",
    "   gn = nx.algorithms.community.girvan_newman(G)\n",
    "   for communities in itertools.islice(gn, 5):\n",
    "      pass\n",
    "   return communities\n",
    "\n",
    "# Load the network\n",
    "G = nx.read_edgelist(\"data.txt\", nodetype = int)\n",
    "ground_truth = pd.read_csv(\"nodes.txt\", sep = \"\\t\")\n",
    "\n",
    "sets = nx.bipartite.sets(G)\n",
    "\n",
    "G1 = nx.bipartite.projected_graph(G, sets[0])\n",
    "G2 = nx.bipartite.projected_graph(G, sets[1])\n",
    "\n",
    "comms1 = five_comms_gn(G1)\n",
    "comms2 = five_comms_gn(G2)\n",
    "\n",
    "communities = []\n",
    "for i in range(len(comms1)):\n",
    "   communities.extend([(n, i) for n in comms1[i]])\n",
    "\n",
    "for i in range(len(comms2)):\n",
    "   communities.extend([(n, i + len(comms1)) for n in comms2[i]])\n",
    "\n",
    "communities = pd.DataFrame(data = communities, columns = (\"node\", \"projcomm\"))\n",
    "\n",
    "df = ground_truth.merge(communities, on = \"node\")\n",
    "\n",
    "print(normalized_mutual_info_score(df[\"truecomm\"], df[\"projcomm\"]))"
   ]
  },
  {
   "cell_type": "markdown",
   "metadata": {},
   "source": [
    "Perform asynchronous label propagation directly on the bipartite structure of the network from Exercise 35.1. Calculate the `NMI with the ground truth`. Since `asynchronous label propagation` is randomized, take the average of ten runs. Do you get a higher NMI?"
   ]
  },
  {
   "cell_type": "code",
   "execution_count": 2,
   "metadata": {},
   "outputs": [],
   "source": [
    "ground_truth = pd.read_csv(\"nodes.txt\", sep = \"\\t\")\n",
    "nmis = []"
   ]
  },
  {
   "cell_type": "code",
   "execution_count": 3,
   "metadata": {},
   "outputs": [
    {
     "name": "stdout",
     "output_type": "stream",
     "text": [
      "0.9309751145932792\n"
     ]
    }
   ],
   "source": [
    "for _ in range(10):\n",
    "   comms = list(nx.algorithms.community.asyn_lpa_communities(G))\n",
    "   communities = []\n",
    "   for i in range(len(comms)):\n",
    "      communities.extend([(n, i) for n in comms[i]])\n",
    "   communities = pd.DataFrame(data = communities, columns = (\"node\", \"projcomm\"))\n",
    "   df = ground_truth.merge(communities, on = \"node\")\n",
    "   nmis.append(normalized_mutual_info_score(df[\"truecomm\"], df[\"projcomm\"]))\n",
    "   \n",
    "print(sum(nmis) / len(nmis))"
   ]
  }
 ],
 "metadata": {
  "kernelspec": {
   "display_name": "Python 3",
   "language": "python",
   "name": "python3"
  },
  "language_info": {
   "codemirror_mode": {
    "name": "ipython",
    "version": 3
   },
   "file_extension": ".py",
   "mimetype": "text/x-python",
   "name": "python",
   "nbconvert_exporter": "python",
   "pygments_lexer": "ipython3",
   "version": "3.10.10"
  }
 },
 "nbformat": 4,
 "nbformat_minor": 2
}
