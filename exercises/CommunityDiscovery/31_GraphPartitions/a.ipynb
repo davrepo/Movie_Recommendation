{
 "cells": [
  {
   "cell_type": "markdown",
   "metadata": {},
   "source": [
    "Find the communities in this network using the `label propagation` strategy. Which nodes are in the same community as node 1?"
   ]
  },
  {
   "cell_type": "code",
   "execution_count": 1,
   "metadata": {},
   "outputs": [],
   "source": [
    "import networkx as nx\n",
    "# Load the network\n",
    "G = nx.read_edgelist(\"data.txt\")\n",
    "# Find label communities\n",
    "lp_comms = list(nx.algorithms.community.label_propagation_communities(G))"
   ]
  },
  {
   "cell_type": "code",
   "execution_count": 2,
   "metadata": {},
   "outputs": [
    {
     "name": "stdout",
     "output_type": "stream",
     "text": [
      "{'4', '8', '28', '5', '2', '112', '68', '102', '1', '100', '63', '67', '75', '40', '51', '90', '72', '30', '85', '98', '58', '78', '10', '88', '6', '50', '46', '25', '101', '49', '111', '52', '83', '45', '81', '42', '61', '31', '62', '86', '91', '55', '87', '84', '71', '7', '26', '109', '82', '11', '93', '12', '48', '3', '110', '116', '9', '38', '89', '77', '27', '104', '99', '103', '73', '39', '41', '66', '53', '94', '114', '32', '70', '69', '24'}\n"
     ]
    }
   ],
   "source": [
    "# Find community containing node 1\n",
    "for lp_comm in lp_comms:\n",
    "   if \"1\" in lp_comm:\n",
    "      print(lp_comm)\n",
    "      break"
   ]
  },
  {
   "cell_type": "markdown",
   "metadata": {},
   "source": [
    "Find the local communities in this network from Exercise 31.1 using the `label propagation` algorithm, by only looking at the 2-step neighborhood of nodes 1, 21, and 181."
   ]
  },
  {
   "cell_type": "code",
   "execution_count": 3,
   "metadata": {},
   "outputs": [],
   "source": [
    "# This function extracts the 2-neighborhood of a node\n",
    "def two_neighborhood(G, node):\n",
    "   neighborhood = set()\n",
    "   for edge in nx.bfs_edges(G, node, depth_limit = 2):\n",
    "      neighborhood.add(edge[0])\n",
    "      neighborhood.add(edge[1])\n",
    "   G2 = G.subgraph(neighborhood)\n",
    "   return G2"
   ]
  },
  {
   "cell_type": "code",
   "execution_count": 4,
   "metadata": {},
   "outputs": [
    {
     "name": "stdout",
     "output_type": "stream",
     "text": [
      "[{'4', '59', '8', '22', '5', '2', '112', '102', '1', '67', '40', '72', '85', '78', '10', '6', '46', '101', '45', '42', '31', '55', '71', '109', '11', '74', '3', '116', '89', '9', '38', '103', '104', '73', '39', '41', '66', '32', '69'}, {'110', '91', '130', '70', '7'}]\n"
     ]
    }
   ],
   "source": [
    "G1 = two_neighborhood(G, \"1\")\n",
    "lp_comms1 = list(nx.algorithms.community.label_propagation_communities(G1))\n",
    "print(lp_comms1)"
   ]
  },
  {
   "cell_type": "code",
   "execution_count": 5,
   "metadata": {},
   "outputs": [
    {
     "name": "stdout",
     "output_type": "stream",
     "text": [
      "[{'34', '117', '112', '22', '102', '115', '40', '51', '33', '10', '29', '25', '80', '95', '23', '20', '37', '54', '15', '93', '21', '27', '24'}, {'44', '19', '47', '79', '43', '63', '106', '36', '76', '45'}, {'77', '38', '86', '5', '69', '101', '111', '41', '98', '58', '78'}]\n"
     ]
    }
   ],
   "source": [
    "G21 = two_neighborhood(G, \"21\")\n",
    "lp_comms21 = list(nx.algorithms.community.label_propagation_communities(G21))\n",
    "print(lp_comms21)"
   ]
  },
  {
   "cell_type": "markdown",
   "metadata": {},
   "source": [
    "Suppose that this network is a second observation of the network from Exercise 31.1. Perform the label propagation community detection on it and use the `Jaccard coefficient` to `determine how different the communities containing nodes 1, 21, and 181 are`."
   ]
  },
  {
   "cell_type": "code",
   "execution_count": 7,
   "metadata": {},
   "outputs": [],
   "source": [
    "# Load the networks\n",
    "G1 = nx.read_edgelist(\"data.txt\")\n",
    "G2 = nx.read_edgelist(\"data2.txt\")"
   ]
  },
  {
   "cell_type": "code",
   "execution_count": 6,
   "metadata": {},
   "outputs": [],
   "source": [
    "def jaccard(node, comms1, comms2):\n",
    "   for c1 in comms1:\n",
    "      if node in c1:\n",
    "         break\n",
    "   for c2 in comms2:\n",
    "      if node in c2:\n",
    "         break\n",
    "   j = len(c1 & c2) / len(c1 | c2)\n",
    "   return j"
   ]
  },
  {
   "cell_type": "code",
   "execution_count": 8,
   "metadata": {},
   "outputs": [],
   "source": [
    "\n",
    "# Find label communities\n",
    "lp_comms1 = list(nx.algorithms.community.label_propagation_communities(G1))\n",
    "lp_comms2 = list(nx.algorithms.community.label_propagation_communities(G2))"
   ]
  },
  {
   "cell_type": "code",
   "execution_count": 9,
   "metadata": {},
   "outputs": [
    {
     "name": "stdout",
     "output_type": "stream",
     "text": [
      "0.36\n",
      "0.014084507042253521\n",
      "0.25\n"
     ]
    }
   ],
   "source": [
    "print(jaccard(\"1\", lp_comms1, lp_comms2))\n",
    "print(jaccard(\"21\", lp_comms1, lp_comms2))\n",
    "print(jaccard(\"181\", lp_comms1, lp_comms2))"
   ]
  }
 ],
 "metadata": {
  "kernelspec": {
   "display_name": "Python 3",
   "language": "python",
   "name": "python3"
  },
  "language_info": {
   "codemirror_mode": {
    "name": "ipython",
    "version": 3
   },
   "file_extension": ".py",
   "mimetype": "text/x-python",
   "name": "python",
   "nbconvert_exporter": "python",
   "pygments_lexer": "ipython3",
   "version": "3.10.10"
  }
 },
 "nbformat": 4,
 "nbformat_minor": 2
}
