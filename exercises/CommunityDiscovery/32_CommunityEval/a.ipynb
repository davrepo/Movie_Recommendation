{
 "cells": [
  {
   "cell_type": "markdown",
   "metadata": {},
   "source": [
    "Detect communities of the network this network using the `asynchronous` and the `semi-synchronous` `label propagation` algorithms. Which one does return the `highest modularity`?"
   ]
  },
  {
   "cell_type": "code",
   "execution_count": 1,
   "metadata": {},
   "outputs": [
    {
     "name": "stdout",
     "output_type": "stream",
     "text": [
      "semi-sync Q: 0.6377\n",
      "async Q: 0.6462\n"
     ]
    }
   ],
   "source": [
    "import networkx as nx\n",
    "\n",
    "# Load the network\n",
    "G = nx.read_edgelist(\"data.txt\")\n",
    "\n",
    "# Find label communities\n",
    "semi_syn = list(nx.algorithms.community.label_propagation_communities(G))\n",
    "asyn = list(nx.algorithms.community.asyn_lpa_communities(G))\n",
    "print(\"semi-sync Q: %1.4f\" % nx.community.quality.modularity(G, semi_syn))\n",
    "print(\"async Q: %1.4f\" % nx.community.quality.modularity(G, asyn))"
   ]
  },
  {
   "cell_type": "markdown",
   "metadata": {},
   "source": [
    "Find the communities of this network using label propagation and calculate the modularity. Then manually create a new partition by moving nodes 25, 26, 27, 31 into their own partition. Recalculate modularity for this new partition. Did this move increase modularity?"
   ]
  },
  {
   "cell_type": "code",
   "execution_count": 5,
   "metadata": {},
   "outputs": [
    {
     "name": "stdout",
     "output_type": "stream",
     "text": [
      "Q: 0.5109\n"
     ]
    }
   ],
   "source": [
    "# Load the network\n",
    "G = nx.read_edgelist(\"data1.txt\", nodetype = int)\n",
    "\n",
    "# Find label communities\n",
    "comms = list(nx.algorithms.community.label_propagation_communities(G))\n",
    "print(\"Q: %1.4f\" % nx.community.quality.modularity(G, comms))"
   ]
  },
  {
   "cell_type": "code",
   "execution_count": 6,
   "metadata": {},
   "outputs": [
    {
     "name": "stdout",
     "output_type": "stream",
     "text": [
      "Q: 0.5325\n"
     ]
    }
   ],
   "source": [
    "comms2 = []\n",
    "for comm in comms:\n",
    "   if not 25 in comm:\n",
    "      comms2.append(comm)\n",
    "   else:\n",
    "      newcomm = set([25, 26, 27, 31])\n",
    "      comm2 = comm - newcomm\n",
    "      comms2.append(comm2)\n",
    "      comms2.append(newcomm)\n",
    "      \n",
    "# Yes, resolution limit\n",
    "print(\"Q: %1.4f\" % nx.community.quality.modularity(G, comms2))"
   ]
  },
  {
   "cell_type": "markdown",
   "metadata": {},
   "source": [
    "Assume that this table contains the \"true\" community partition of the nodes for the network from Exercise 32.1. Determine which algorithm between the asynchronous and the semi-synchronous label propagation achieves higher `Normalized Mutual Information` with such gold standard."
   ]
  },
  {
   "cell_type": "code",
   "execution_count": 7,
   "metadata": {},
   "outputs": [
    {
     "name": "stderr",
     "output_type": "stream",
     "text": [
      "c:\\Users\\jackh\\AppData\\Local\\Programs\\Python\\Python310\\lib\\site-packages\\scipy\\__init__.py:177: UserWarning: A NumPy version >=1.18.5 and <1.26.0 is required for this version of SciPy (detected version 1.26.1\n",
      "  warnings.warn(f\"A NumPy version >={np_minversion} and <{np_maxversion}\"\n"
     ]
    }
   ],
   "source": [
    "import networkx as nx\n",
    "from sklearn.metrics import normalized_mutual_info_score\n",
    "\n",
    "# Load the network\n",
    "G = nx.read_edgelist(\"data.txt\")\n",
    "\n",
    "# Load ground truth\n",
    "ground_truth = {}\n",
    "with open(\"table.txt\", 'r') as f:\n",
    "   for line in f:\n",
    "      fields = line.strip().split('\\t')\n",
    "      ground_truth[fields[0]] = fields[1]\n",
    "      \n",
    "# Find label communities\n",
    "semi_syn = list(nx.algorithms.community.label_propagation_communities(G))\n",
    "asyn = list(nx.algorithms.community.asyn_lpa_communities(G))\n",
    "\n",
    "semi_syn = {n: c for c in range(len(semi_syn)) for n in semi_syn[c]}\n",
    "asyn = {n: c for c in range(len(asyn)) for n in asyn[c]}"
   ]
  },
  {
   "cell_type": "code",
   "execution_count": 8,
   "metadata": {},
   "outputs": [],
   "source": [
    "semi_sync_array = []\n",
    "async_array = []\n",
    "ground_truth_array = []\n",
    "for n in G.nodes:\n",
    "   semi_sync_array.append(semi_syn[n])\n",
    "   async_array.append(asyn[n])\n",
    "   ground_truth_array.append(ground_truth[n])"
   ]
  },
  {
   "cell_type": "code",
   "execution_count": 9,
   "metadata": {},
   "outputs": [
    {
     "name": "stdout",
     "output_type": "stream",
     "text": [
      "semi-sync NMI: 0.7647\n",
      "async NMI: 0.8845\n"
     ]
    }
   ],
   "source": [
    "print(\"semi-sync NMI: %1.4f\" % normalized_mutual_info_score(ground_truth_array, semi_sync_array))\n",
    "print(\"async NMI: %1.4f\" % normalized_mutual_info_score(ground_truth_array, async_array))"
   ]
  }
 ],
 "metadata": {
  "kernelspec": {
   "display_name": "Python 3",
   "language": "python",
   "name": "python3"
  },
  "language_info": {
   "codemirror_mode": {
    "name": "ipython",
    "version": 3
   },
   "file_extension": ".py",
   "mimetype": "text/x-python",
   "name": "python",
   "nbconvert_exporter": "python",
   "pygments_lexer": "ipython3",
   "version": "3.10.10"
  }
 },
 "nbformat": 4,
 "nbformat_minor": 2
}
