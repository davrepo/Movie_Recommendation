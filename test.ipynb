{
 "cells": [
  {
   "cell_type": "code",
   "execution_count": null,
   "metadata": {},
   "outputs": [],
   "source": [
    "# Data to be added\n",
    "additional_data = [\n",
    "    {'code': 'A02', 'city': 'Deadmans Bay', 'country': 'US', 'subd': 'Alaska', 'elevation': 0, 'lat': 55.11669921875, 'lon': -131.56689453125, 'tz': 'America/Juneau', 'name': 'Deadmans Bay Airport'},\n",
    "    {'code': 'A03', 'city': 'Hallo Bay', 'country': 'US', 'subd': 'Alaska', 'elevation': 0, 'lat': 58.89830017089844, 'lon': -153.18099975585938, 'tz': 'America/Anchorage', 'name': 'Hallo Bay Airport'},\n",
    "    {'code': 'A07', 'city': 'Selawik', 'country': 'US', 'subd': 'Alaska', 'elevation': 0, 'lat': 66.60009765625, 'lon': -159.98599243164062, 'tz': 'America/Nome', 'name': 'Roland Norton Memorial'},\n",
    "    {'code': 'A12', 'city': 'Cinnabar', 'country': 'US', 'subd': 'Montana', 'elevation': 0, 'lat': 45.18330001831055, 'lon': -110.93399810791016, 'tz': 'America/Denver', 'name': 'Cinnabar Airport'},\n",
    "    {'code': 'A23', 'city': 'Bradley Lake', 'country': 'US', 'subd': 'Alaska', 'elevation': 0, 'lat': 60.483299255371094, 'lon': -151.0330047607422, 'tz': 'America/Anchorage', 'name': 'Bradley Lake Airport'},\n",
    "    {'code': 'A27', 'city': 'Pogo Mines', 'country': 'US', 'subd': 'Alaska', 'elevation': 0, 'lat': 64.8499984741211, 'lon': -141.14999389648438, 'tz': 'America/Yakutat', 'name': 'Pogo Mines Airport'},\n",
    "    {'code': 'A29', 'city': 'Kiluda Bay', 'country': 'US', 'subd': 'Alaska', 'elevation': 0, 'lat': 59.83330154418945, 'lon': -151.60000610351562, 'tz': 'America/Anchorage', 'name': 'Kiluda Bay Airport'},\n",
    "    {'code': 'A37', 'city': 'Kako', 'country': 'US', 'subd': 'Alaska', 'elevation': 0, 'lat': 59.83330154418945, 'lon': -152.58399963378906, 'tz': 'America/Anchorage', 'name': 'Kako Airport'},\n",
    "    {'code': 'A40', 'city': 'Cape Simpson', 'country': 'US', 'subd': 'Alaska', 'elevation': 0, 'lat': 70.7332992553711, 'lon': -157.14999389648438, 'tz': 'America/Nome', 'name': 'Cape Simpson Airport'},\n",
    "    {'code': 'A52', 'city': 'Silver Salmon Creek', 'country': 'US', 'subd': 'Alaska', 'elevation': 0, 'lat': 59.83330154418945, 'lon': -153.5, 'tz': 'America/Anchorage', 'name': 'Silver Salmon Creek Airport'},\n",
    "    {'code': 'A71', 'city': 'Homer', 'country': 'US', 'subd': 'Alaska', 'elevation': 0, 'lat': 59.63330078125, 'lon': -151.5500030517578, 'tz': 'America/Anchorage', 'name': 'Bear Cove Farm'},\n",
    "    {'code': 'A72', 'city': 'Chinitna Bay', 'country': 'US', 'subd': 'Alaska', 'elevation': 0, 'lat': 59.83330154418945, 'lon': -153.5, 'tz': 'America/Anchorage', 'name': 'Chinitna Bay Airport'},\n",
    "    {'code': 'A74', 'city': 'Nanwalek', 'country': 'US', 'subd': 'Alaska', 'elevation': 0, 'lat': 59.43330001831055, 'lon': -151.8000030517578, 'tz': 'America/Anchorage', 'name': 'Dog Fish Bay'},\n",
    "    {'code': 'A83', 'city': 'Petrof Point', 'country': 'US', 'subd': 'Alaska', 'elevation': 0, 'lat': 59.83330154418945, 'lon': -153.5, 'tz': 'America/Anchorage', 'name': 'Petrof Point Airport'},\n",
    "    {'code': 'A97', 'city': 'Akulik', 'country': 'US', 'subd': 'Alaska', 'elevation': 0, 'lat': 59.83330154418945, 'lon': -153.5, 'tz': 'America/Anchorage', 'name': 'Akulik Air Strip'},\n",
    "    {'code': 'A98', 'city': 'Deadfall', 'country': 'US', 'subd': 'Alaska', 'elevation': 0, 'lat': 59.83330154418945, 'lon': -153.5, 'tz': 'America/Anchorage', 'name': 'Deadfall Air Strip'},\n",
    "    {'code': 'AA8', 'city': 'Deadhorse', 'country': 'US', 'subd': 'Alaska', 'elevation': 0, 'lat': 70.19999694824219, 'lon': -148.4669952392578, 'tz': 'America/Anchorage', 'name': 'Badami'},\n",
    "]\n",
    "\n",
    "# Add the additional data to enriched_airports_df\n",
    "for data in additional_data:\n",
    "    code = data['code']\n",
    "    matching_index = enriched_airports_df[enriched_airports_df['code'] == code].index\n",
    "    if not matching_index.empty:\n",
    "        matching_index = matching_index[0]\n",
    "        for key, value in data.items():\n",
    "            enriched_airports_df.loc[matching_index, key] = value\n",
    "\n",
    "# Display the updated enriched_airports_df\n",
    "enriched_airports_df.head(50)"
   ]
  }
 ],
 "metadata": {
  "language_info": {
   "name": "python"
  }
 },
 "nbformat": 4,
 "nbformat_minor": 2
}
