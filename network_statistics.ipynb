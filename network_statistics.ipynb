{
 "cells": [
  {
   "cell_type": "markdown",
   "source": [
    "# Network Statistics of MovieLens 100K Dataset\n",
    "This file contains network statistics of the MovieLens 100K dataset."
   ],
   "metadata": {
    "collapsed": false
   },
   "id": "5020d24dd96888ad"
  },
  {
   "cell_type": "code",
   "execution_count": 81,
   "outputs": [],
   "source": [
    "from collections import Counter\n",
    "\n",
    "import networkx as nx\n",
    "import numpy as np\n",
    "import pandas as pd\n",
    "from matplotlib import pyplot as plt\n",
    "from networkx.algorithms import bipartite\n",
    "import matplotlib.ticker as mtick\n",
    "import powerlaw as pl\n",
    "\n",
    "path = \"data/figures/presentation/\"\n",
    "G = nx.Graph()\n",
    "\n",
    "f = open(\"data/raw/u.data\")\n",
    "for line in f.readlines():\n",
    "    source, target, weight = line.split()\n",
    "    G.add_node(source + \"a\", bipartite=0, id=source)\n",
    "    G.add_node(target + \"b\", bipartite=1, id=target)\n",
    "    G.add_edge(source + \"a\", target + \"b\", weight=weight)\n",
    "\n",
    "# print(G)"
   ],
   "metadata": {
    "collapsed": false,
    "ExecuteTime": {
     "end_time": "2023-12-15T15:17:18.018275700Z",
     "start_time": "2023-12-15T15:17:17.461298100Z"
    }
   },
   "id": "748264e48c125d18"
  },
  {
   "cell_type": "markdown",
   "source": [
    "## Number of Nodes and Edges\n",
    "<!-- 4 by 2 table -->\n",
    "|---------------------------| --- |\n",
    "| Number of Nodes           | 2625  |\n",
    "| Left Partition (Users)    | 943 |\n",
    "| Right Partition (Movies)  | 1682 |\n",
    "| Number of Edges (Ratings) | 100000 |\n",
    "\n",
    "The network contains 2625 nodes and 100000 edges. Because the network is bipartite, we are also interested in each partition separately - the left partition contains 943 nodes and the right partition contains 1682 nodes. \n",
    "That means 943 users rated 1682 movies. The total number of ratings was 100000.\n"
   ],
   "metadata": {
    "collapsed": false
   },
   "id": "5de9c3c45b9807fd"
  },
  {
   "cell_type": "code",
   "execution_count": 82,
   "outputs": [
    {
     "name": "stdout",
     "output_type": "stream",
     "text": [
      "Graph with 2625 nodes and 100000 edges\n",
      "Number of users: 943\n",
      "Number of movies: 1682\n"
     ]
    }
   ],
   "source": [
    "users =  {n for n, d in G.nodes(data=True) if d[\"bipartite\"] == 0}\n",
    "movies = G.nodes - users\n",
    "\n",
    "print(G)\n",
    "print(\"Number of users:\", len(users))\n",
    "print(\"Number of movies:\", len(movies))\n"
   ],
   "metadata": {
    "collapsed": false,
    "ExecuteTime": {
     "end_time": "2023-12-15T15:17:18.046569500Z",
     "start_time": "2023-12-15T15:17:18.023379800Z"
    }
   },
   "id": "9550242a965c8929"
  },
  {
   "cell_type": "markdown",
   "source": [
    "## Node Degree\n",
    "<!-- 4 by 2 table -->\n",
    "|----------------------| --- |\n",
    "| Max Degree           | 737  |\n",
    "| Max Left Degree      | 737 |\n",
    "| Max Right Degree     | 583 |\n",
    "| Average Degree       | 76.19 |\n",
    "| Average Left Degree  | 106.05 |\n",
    "| Average Right Degree | 59.45 |\n",
    "\n",
    "The maximum degree is 737 and the average degree is 76.19. \n",
    "\n",
    "**Left partition (Users)** - the maximum degree is 737 and the average degree is 106.05. That means that the user with maximum number of movie ratings rated 737 movies. Each user rated 106.05 movies on average.\n",
    "\n",
    "**Right partition (Movies)** - the maximum degree is 583 and the average degree is 59.45. That means the movie with maximum number of ratings has 583 ratings. Each movie has 59.45 ratings on average.\n",
    "\n"
   ],
   "metadata": {
    "collapsed": false
   },
   "id": "af253f4c0d8f20d8"
  },
  {
   "cell_type": "code",
   "execution_count": 83,
   "outputs": [
    {
     "name": "stdout",
     "output_type": "stream",
     "text": [
      "Average degree: 76.19047619047619\n",
      "Average user degree: 106.04453870625663\n",
      "Average movie degree: 59.45303210463734\n",
      "Max degree: 737\n",
      "Max user degree: 737\n",
      "Max movie degree: 583\n"
     ]
    }
   ],
   "source": [
    "degrees = G.degree\n",
    "user_degrees, movie_degrees = bipartite.degrees(G, movies)\n",
    "\n",
    "def avg(degree_array):\n",
    "    return sum(deg for id, deg in degree_array)/len(degree_array)\n",
    "\n",
    "def max_degree(degree_array):\n",
    "    return max(deg for id, deg in degree_array)\n",
    "\n",
    "print(\"Average degree:\", avg(degrees))\n",
    "print(\"Average user degree:\", avg(user_degrees))\n",
    "print(\"Average movie degree:\", avg(movie_degrees))\n",
    "\n",
    "print(\"Max degree:\", max_degree(degrees))\n",
    "print(\"Max user degree:\", max_degree(user_degrees))\n",
    "print(\"Max movie degree:\", max_degree(movie_degrees))\n"
   ],
   "metadata": {
    "collapsed": false,
    "ExecuteTime": {
     "end_time": "2023-12-15T15:17:18.101378800Z",
     "start_time": "2023-12-15T15:17:18.039647800Z"
    }
   },
   "id": "cfffbf6fb67f77bf"
  },
  {
   "cell_type": "markdown",
   "source": [
    "## Clustering\n",
    "**Clusters** = connected components\n",
    "**Clustering coefficient** = how often does a triad closes down into a triangle\n",
    "* A low clustering coefficient is indicative of a network comprised of numerous weak ties\n",
    "* For computing $CC$, we need to compute number of triads $#Triads = \\sum_{v \\in V} k_v(k_v - 1)/2$, where $k_v = degree(v)$\n",
    "\n",
    "### Global Clustering Coefficient\n",
    "The number of closed triplets (or 3 x triangles) over the total number of triplets (both open and closed):\n",
    "$$ CC = 3 \\cdot \\frac{\\# Triangles}{\\# Triads} $$\n",
    "\n",
    "### Local Clustering Coefficient\n",
    "When looking at one node *v*:\n",
    "$$ CC_v = \\frac{\\# Triangles_v}{\\# Triads_v} $$\n",
    "\n",
    "### Average Clustering Coefficient\n",
    "Average of local clustering coefficients of all nodes in the graph:\n",
    "$$ CC = \\frac{1}{|V|} \\sum CC_v $$\n",
    "But because our network is bipartite, it doesn't make sense to compute cc."
   ],
   "metadata": {
    "collapsed": false
   },
   "id": "8724d7b24332810d"
  },
  {
   "cell_type": "code",
   "execution_count": 84,
   "outputs": [
    {
     "name": "stdout",
     "output_type": "stream",
     "text": [
      "Number of clusters (components): 1\n"
     ]
    }
   ],
   "source": [
    "connected_components = list(nx.connected_components(G))\n",
    "num_clusters = len(connected_components) # Count the number of clusters\n",
    "print(\"Number of clusters (components):\", num_clusters)\n"
   ],
   "metadata": {
    "collapsed": false,
    "ExecuteTime": {
     "end_time": "2023-12-15T15:17:18.128243700Z",
     "start_time": "2023-12-15T15:17:18.087225500Z"
    }
   },
   "id": "816c24c724e4536f"
  }
 ],
 "metadata": {
  "kernelspec": {
   "display_name": "Python 3",
   "language": "python",
   "name": "python3"
  },
  "language_info": {
   "codemirror_mode": {
    "name": "ipython",
    "version": 2
   },
   "file_extension": ".py",
   "mimetype": "text/x-python",
   "name": "python",
   "nbconvert_exporter": "python",
   "pygments_lexer": "ipython2",
   "version": "2.7.6"
  }
 },
 "nbformat": 4,
 "nbformat_minor": 5
}
