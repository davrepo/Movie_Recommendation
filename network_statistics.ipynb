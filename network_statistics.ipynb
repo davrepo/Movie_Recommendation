{
 "cells": [
  {
   "cell_type": "markdown",
   "source": [
    "# Network Statistics of MovieLens 100K Dataset\n",
    "This file contains network statistics of the MovieLens 100K dataset."
   ],
   "metadata": {
    "collapsed": false
   },
   "id": "5020d24dd96888ad"
  },
  {
   "cell_type": "code",
   "execution_count": 2,
   "outputs": [],
   "source": [
    "import networkx as nx\n",
    "from networkx.algorithms import bipartite\n",
    "\n",
    "G = nx.Graph()\n",
    "\n",
    "f = open(\"data/raw/u.data\")\n",
    "for line in f.readlines():\n",
    "    source, target, weight = line.split()\n",
    "    G.add_node(source + \"a\", bipartite=0, id=source)\n",
    "    G.add_node(target + \"b\", bipartite=1, id=target)\n",
    "    G.add_edge(source + \"a\", target + \"b\", weight=weight)\n",
    "\n",
    "# print(G)"
   ],
   "metadata": {
    "collapsed": false,
    "ExecuteTime": {
     "end_time": "2023-11-22T12:58:36.976875800Z",
     "start_time": "2023-11-22T12:58:36.662083900Z"
    }
   },
   "id": "748264e48c125d18"
  },
  {
   "cell_type": "markdown",
   "source": [
    "## Number of Nodes and Edges\n",
    "<!-- 4 by 2 table -->\n",
    "|---------------------------| --- |\n",
    "| Number of Nodes           | 2625  |\n",
    "| Left Partition (Users)    | 943 |\n",
    "| Right Partition (Movies)  | 1682 |\n",
    "| Number of Edges (Ratings) | 100000 |\n",
    "\n",
    "The network contains 2625 nodes and 100000 edges. Because the network is bipartite, we are also interested in each partition separately - the left partition contains 943 nodes and the right partition contains 1682 nodes. \n",
    "That means 943 users rated 1682 movies. The total number of ratings was 100000.\n"
   ],
   "metadata": {
    "collapsed": false
   },
   "id": "5de9c3c45b9807fd"
  },
  {
   "cell_type": "code",
   "execution_count": 3,
   "outputs": [
    {
     "name": "stdout",
     "output_type": "stream",
     "text": [
      "Graph with 2625 nodes and 100000 edges\n",
      "Number of users: 943\n",
      "Number of movies: 1682\n"
     ]
    }
   ],
   "source": [
    "users =  {n for n, d in G.nodes(data=True) if d[\"bipartite\"] == 0}\n",
    "movies = G.nodes - users\n",
    "\n",
    "print(G)\n",
    "print(\"Number of users:\", len(users))\n",
    "print(\"Number of movies:\", len(movies))\n"
   ],
   "metadata": {
    "collapsed": false,
    "ExecuteTime": {
     "end_time": "2023-11-22T12:58:36.985006500Z",
     "start_time": "2023-11-22T12:58:36.977877300Z"
    }
   },
   "id": "9550242a965c8929"
  },
  {
   "cell_type": "markdown",
   "source": [
    "## Node Degree\n",
    "<!-- 4 by 2 table -->\n",
    "|----------------------| --- |\n",
    "| Max Degree           | 737  |\n",
    "| Max Left Degree      | 737 |\n",
    "| Max Right Degree     | 583 |\n",
    "| Average Degree       | 76.19 |\n",
    "| Average Left Degree  | 106.05 |\n",
    "| Average Right Degree | 59.45 |\n",
    "\n",
    "The maximum degree is 737 and the average degree is 76.19. \n",
    "\n",
    "**Left partition (Users)** - the maximum degree is 737 and the average degree is 106.05. That means that the user with maximum number of movie ratings rated 737 movies. Each user rated 106.05 movies on average.\n",
    "\n",
    "**Right partition (Movies)** - the maximum degree is 583 and the average degree is 59.45. That means the movie with maximum number of ratings has 583 ratings. Each movie has 59.45 ratings on average.\n",
    "\n"
   ],
   "metadata": {
    "collapsed": false
   },
   "id": "af253f4c0d8f20d8"
  },
  {
   "cell_type": "code",
   "execution_count": 4,
   "outputs": [
    {
     "name": "stdout",
     "output_type": "stream",
     "text": [
      "Average degree: 76.19047619047619\n",
      "Average user degree: 106.04453870625663\n",
      "Average movie degree: 59.45303210463734\n",
      "Max degree: 737\n",
      "Max user degree: 737\n",
      "Max movie degree: 583\n"
     ]
    }
   ],
   "source": [
    "degrees = G.degree\n",
    "user_degrees, movie_degrees = bipartite.degrees(G, movies)\n",
    "\n",
    "def avg(degree_array):\n",
    "    return sum(deg for id, deg in degree_array)/len(degree_array)\n",
    "\n",
    "def max_degree(degree_array):\n",
    "    return max(deg for id, deg in degree_array)\n",
    "\n",
    "print(\"Average degree:\", avg(degrees))\n",
    "print(\"Average user degree:\", avg(user_degrees))\n",
    "print(\"Average movie degree:\", avg(movie_degrees))\n",
    "\n",
    "print(\"Max degree:\", max_degree(degrees))\n",
    "print(\"Max user degree:\", max_degree(user_degrees))\n",
    "print(\"Max movie degree:\", max_degree(movie_degrees))\n"
   ],
   "metadata": {
    "collapsed": false,
    "ExecuteTime": {
     "end_time": "2023-11-22T12:58:37.005290300Z",
     "start_time": "2023-11-22T12:58:36.985006500Z"
    }
   },
   "id": "cfffbf6fb67f77bf"
  },
  {
   "cell_type": "markdown",
   "source": [
    "## Clustering\n",
    "**Clusters** = connected components\n",
    "**Clustering coefficient** = how often does a triad closes down into a triangle\n",
    "* A low clustering coefficient is indicative of a network comprised of numerous weak ties\n",
    "* For computing $CC$, we need to compute number of triads $#Triads = \\sum_{v \\in V} k_v(k_v - 1)/2$, where $k_v = degree(v)$\n",
    "\n",
    "### Global Clustering Coefficient\n",
    "The number of closed triplets (or 3 x triangles) over the total number of triplets (both open and closed):\n",
    "$$ CC = 3 \\cdot \\frac{\\# Triangles}{\\# Triads} $$\n",
    "\n",
    "### Local Clustering Coefficient\n",
    "When looking at one node *v*:\n",
    "$$ CC_v = \\frac{\\# Triangles_v}{\\# Triads_v} $$\n",
    "\n",
    "### Average Clustering Coefficient\n",
    "Average of local clustering coefficients of all nodes in the graph:\n",
    "$$ CC = \\frac{1}{|V|} \\sum CC_v $$"
   ],
   "metadata": {
    "collapsed": false
   },
   "id": "8724d7b24332810d"
  },
  {
   "cell_type": "code",
   "execution_count": 11,
   "outputs": [
    {
     "name": "stdout",
     "output_type": "stream",
     "text": [
      "Number of clusters (components): 1\n"
     ]
    },
    {
     "ename": "TypeError",
     "evalue": "unsupported operand type(s) for /: 'str' and 'str'",
     "output_type": "error",
     "traceback": [
      "\u001B[1;31m---------------------------------------------------------------------------\u001B[0m",
      "\u001B[1;31mTypeError\u001B[0m                                 Traceback (most recent call last)",
      "\u001B[1;32m~\\AppData\\Local\\Temp\\ipykernel_24464\\4086446310.py\u001B[0m in \u001B[0;36m<module>\u001B[1;34m\u001B[0m\n\u001B[0;32m      3\u001B[0m \u001B[0mprint\u001B[0m\u001B[1;33m(\u001B[0m\u001B[1;34m\"Number of clusters (components):\"\u001B[0m\u001B[1;33m,\u001B[0m \u001B[0mnum_clusters\u001B[0m\u001B[1;33m)\u001B[0m\u001B[1;33m\u001B[0m\u001B[1;33m\u001B[0m\u001B[0m\n\u001B[0;32m      4\u001B[0m \u001B[1;33m\u001B[0m\u001B[0m\n\u001B[1;32m----> 5\u001B[1;33m \u001B[0mavg_cc\u001B[0m \u001B[1;33m=\u001B[0m \u001B[0mnx\u001B[0m\u001B[1;33m.\u001B[0m\u001B[0maverage_clustering\u001B[0m\u001B[1;33m(\u001B[0m\u001B[0mG\u001B[0m\u001B[1;33m,\u001B[0m \u001B[0mG\u001B[0m\u001B[1;33m.\u001B[0m\u001B[0mnodes\u001B[0m\u001B[1;33m,\u001B[0m \u001B[1;34m\"weight\"\u001B[0m\u001B[1;33m)\u001B[0m\u001B[1;33m\u001B[0m\u001B[1;33m\u001B[0m\u001B[0m\n\u001B[0m\u001B[0;32m      6\u001B[0m \u001B[0mprint\u001B[0m\u001B[1;33m(\u001B[0m\u001B[1;34m\"Average clustering coeficient:\"\u001B[0m\u001B[1;33m,\u001B[0m \u001B[0mavg_cc\u001B[0m\u001B[1;33m)\u001B[0m\u001B[1;33m\u001B[0m\u001B[1;33m\u001B[0m\u001B[0m\n\u001B[0;32m      7\u001B[0m \u001B[1;33m\u001B[0m\u001B[0m\n",
      "\u001B[1;32m~\\Documents\\prog\\itu\\Movie_Recommendation\\venv\\Lib\\site-packages\\networkx\\algorithms\\cluster.py\u001B[0m in \u001B[0;36maverage_clustering\u001B[1;34m(G, nodes, weight, count_zeros)\u001B[0m\n\u001B[0;32m    273\u001B[0m        \u001B[0mhttps\u001B[0m\u001B[1;33m:\u001B[0m\u001B[1;33m//\u001B[0m\u001B[0marxiv\u001B[0m\u001B[1;33m.\u001B[0m\u001B[0morg\u001B[0m\u001B[1;33m/\u001B[0m\u001B[0mabs\u001B[0m\u001B[1;33m/\u001B[0m\u001B[1;36m0802.2512\u001B[0m\u001B[1;33m\u001B[0m\u001B[1;33m\u001B[0m\u001B[0m\n\u001B[0;32m    274\u001B[0m     \"\"\"\n\u001B[1;32m--> 275\u001B[1;33m     \u001B[0mc\u001B[0m \u001B[1;33m=\u001B[0m \u001B[0mclustering\u001B[0m\u001B[1;33m(\u001B[0m\u001B[0mG\u001B[0m\u001B[1;33m,\u001B[0m \u001B[0mnodes\u001B[0m\u001B[1;33m,\u001B[0m \u001B[0mweight\u001B[0m\u001B[1;33m=\u001B[0m\u001B[0mweight\u001B[0m\u001B[1;33m)\u001B[0m\u001B[1;33m.\u001B[0m\u001B[0mvalues\u001B[0m\u001B[1;33m(\u001B[0m\u001B[1;33m)\u001B[0m\u001B[1;33m\u001B[0m\u001B[1;33m\u001B[0m\u001B[0m\n\u001B[0m\u001B[0;32m    276\u001B[0m     \u001B[1;32mif\u001B[0m \u001B[1;32mnot\u001B[0m \u001B[0mcount_zeros\u001B[0m\u001B[1;33m:\u001B[0m\u001B[1;33m\u001B[0m\u001B[1;33m\u001B[0m\u001B[0m\n\u001B[0;32m    277\u001B[0m         \u001B[0mc\u001B[0m \u001B[1;33m=\u001B[0m \u001B[1;33m[\u001B[0m\u001B[0mv\u001B[0m \u001B[1;32mfor\u001B[0m \u001B[0mv\u001B[0m \u001B[1;32min\u001B[0m \u001B[0mc\u001B[0m \u001B[1;32mif\u001B[0m \u001B[0mabs\u001B[0m\u001B[1;33m(\u001B[0m\u001B[0mv\u001B[0m\u001B[1;33m)\u001B[0m \u001B[1;33m>\u001B[0m \u001B[1;36m0\u001B[0m\u001B[1;33m]\u001B[0m\u001B[1;33m\u001B[0m\u001B[1;33m\u001B[0m\u001B[0m\n",
      "\u001B[1;32m~\\Documents\\prog\\itu\\Movie_Recommendation\\venv\\Lib\\site-packages\\networkx\\algorithms\\cluster.py\u001B[0m in \u001B[0;36mclustering\u001B[1;34m(G, nodes, weight)\u001B[0m\n\u001B[0;32m    382\u001B[0m         \u001B[1;32mif\u001B[0m \u001B[0mweight\u001B[0m \u001B[1;32mis\u001B[0m \u001B[1;32mnot\u001B[0m \u001B[1;32mNone\u001B[0m\u001B[1;33m:\u001B[0m\u001B[1;33m\u001B[0m\u001B[1;33m\u001B[0m\u001B[0m\n\u001B[0;32m    383\u001B[0m             \u001B[0mtd_iter\u001B[0m \u001B[1;33m=\u001B[0m \u001B[0m_weighted_triangles_and_degree_iter\u001B[0m\u001B[1;33m(\u001B[0m\u001B[0mG\u001B[0m\u001B[1;33m,\u001B[0m \u001B[0mnodes\u001B[0m\u001B[1;33m,\u001B[0m \u001B[0mweight\u001B[0m\u001B[1;33m)\u001B[0m\u001B[1;33m\u001B[0m\u001B[1;33m\u001B[0m\u001B[0m\n\u001B[1;32m--> 384\u001B[1;33m             \u001B[0mclusterc\u001B[0m \u001B[1;33m=\u001B[0m \u001B[1;33m{\u001B[0m\u001B[0mv\u001B[0m\u001B[1;33m:\u001B[0m \u001B[1;36m0\u001B[0m \u001B[1;32mif\u001B[0m \u001B[0mt\u001B[0m \u001B[1;33m==\u001B[0m \u001B[1;36m0\u001B[0m \u001B[1;32melse\u001B[0m \u001B[0mt\u001B[0m \u001B[1;33m/\u001B[0m \u001B[1;33m(\u001B[0m\u001B[0md\u001B[0m \u001B[1;33m*\u001B[0m \u001B[1;33m(\u001B[0m\u001B[0md\u001B[0m \u001B[1;33m-\u001B[0m \u001B[1;36m1\u001B[0m\u001B[1;33m)\u001B[0m\u001B[1;33m)\u001B[0m \u001B[1;32mfor\u001B[0m \u001B[0mv\u001B[0m\u001B[1;33m,\u001B[0m \u001B[0md\u001B[0m\u001B[1;33m,\u001B[0m \u001B[0mt\u001B[0m \u001B[1;32min\u001B[0m \u001B[0mtd_iter\u001B[0m\u001B[1;33m}\u001B[0m\u001B[1;33m\u001B[0m\u001B[1;33m\u001B[0m\u001B[0m\n\u001B[0m\u001B[0;32m    385\u001B[0m         \u001B[1;32melse\u001B[0m\u001B[1;33m:\u001B[0m\u001B[1;33m\u001B[0m\u001B[1;33m\u001B[0m\u001B[0m\n\u001B[0;32m    386\u001B[0m             \u001B[0mtd_iter\u001B[0m \u001B[1;33m=\u001B[0m \u001B[0m_triangles_and_degree_iter\u001B[0m\u001B[1;33m(\u001B[0m\u001B[0mG\u001B[0m\u001B[1;33m,\u001B[0m \u001B[0mnodes\u001B[0m\u001B[1;33m)\u001B[0m\u001B[1;33m\u001B[0m\u001B[1;33m\u001B[0m\u001B[0m\n",
      "\u001B[1;32m~\\Documents\\prog\\itu\\Movie_Recommendation\\venv\\Lib\\site-packages\\networkx\\algorithms\\cluster.py\u001B[0m in \u001B[0;36m<dictcomp>\u001B[1;34m(.0)\u001B[0m\n\u001B[0;32m    382\u001B[0m         \u001B[1;32mif\u001B[0m \u001B[0mweight\u001B[0m \u001B[1;32mis\u001B[0m \u001B[1;32mnot\u001B[0m \u001B[1;32mNone\u001B[0m\u001B[1;33m:\u001B[0m\u001B[1;33m\u001B[0m\u001B[1;33m\u001B[0m\u001B[0m\n\u001B[0;32m    383\u001B[0m             \u001B[0mtd_iter\u001B[0m \u001B[1;33m=\u001B[0m \u001B[0m_weighted_triangles_and_degree_iter\u001B[0m\u001B[1;33m(\u001B[0m\u001B[0mG\u001B[0m\u001B[1;33m,\u001B[0m \u001B[0mnodes\u001B[0m\u001B[1;33m,\u001B[0m \u001B[0mweight\u001B[0m\u001B[1;33m)\u001B[0m\u001B[1;33m\u001B[0m\u001B[1;33m\u001B[0m\u001B[0m\n\u001B[1;32m--> 384\u001B[1;33m             \u001B[0mclusterc\u001B[0m \u001B[1;33m=\u001B[0m \u001B[1;33m{\u001B[0m\u001B[0mv\u001B[0m\u001B[1;33m:\u001B[0m \u001B[1;36m0\u001B[0m \u001B[1;32mif\u001B[0m \u001B[0mt\u001B[0m \u001B[1;33m==\u001B[0m \u001B[1;36m0\u001B[0m \u001B[1;32melse\u001B[0m \u001B[0mt\u001B[0m \u001B[1;33m/\u001B[0m \u001B[1;33m(\u001B[0m\u001B[0md\u001B[0m \u001B[1;33m*\u001B[0m \u001B[1;33m(\u001B[0m\u001B[0md\u001B[0m \u001B[1;33m-\u001B[0m \u001B[1;36m1\u001B[0m\u001B[1;33m)\u001B[0m\u001B[1;33m)\u001B[0m \u001B[1;32mfor\u001B[0m \u001B[0mv\u001B[0m\u001B[1;33m,\u001B[0m \u001B[0md\u001B[0m\u001B[1;33m,\u001B[0m \u001B[0mt\u001B[0m \u001B[1;32min\u001B[0m \u001B[0mtd_iter\u001B[0m\u001B[1;33m}\u001B[0m\u001B[1;33m\u001B[0m\u001B[1;33m\u001B[0m\u001B[0m\n\u001B[0m\u001B[0;32m    385\u001B[0m         \u001B[1;32melse\u001B[0m\u001B[1;33m:\u001B[0m\u001B[1;33m\u001B[0m\u001B[1;33m\u001B[0m\u001B[0m\n\u001B[0;32m    386\u001B[0m             \u001B[0mtd_iter\u001B[0m \u001B[1;33m=\u001B[0m \u001B[0m_triangles_and_degree_iter\u001B[0m\u001B[1;33m(\u001B[0m\u001B[0mG\u001B[0m\u001B[1;33m,\u001B[0m \u001B[0mnodes\u001B[0m\u001B[1;33m)\u001B[0m\u001B[1;33m\u001B[0m\u001B[1;33m\u001B[0m\u001B[0m\n",
      "\u001B[1;32m~\\Documents\\prog\\itu\\Movie_Recommendation\\venv\\Lib\\site-packages\\networkx\\utils\\decorators.py\u001B[0m in \u001B[0;36mfunc\u001B[1;34m(_argmap__wrapper, *args, **kwargs)\u001B[0m\n\u001B[0;32m    788\u001B[0m \u001B[1;33m\u001B[0m\u001B[0m\n\u001B[0;32m    789\u001B[0m             \u001B[1;32mdef\u001B[0m \u001B[0mfunc\u001B[0m\u001B[1;33m(\u001B[0m\u001B[1;33m*\u001B[0m\u001B[0margs\u001B[0m\u001B[1;33m,\u001B[0m \u001B[0m__wrapper\u001B[0m\u001B[1;33m=\u001B[0m\u001B[1;32mNone\u001B[0m\u001B[1;33m,\u001B[0m \u001B[1;33m**\u001B[0m\u001B[0mkwargs\u001B[0m\u001B[1;33m)\u001B[0m\u001B[1;33m:\u001B[0m\u001B[1;33m\u001B[0m\u001B[1;33m\u001B[0m\u001B[0m\n\u001B[1;32m--> 790\u001B[1;33m                 \u001B[1;32myield\u001B[0m \u001B[1;32mfrom\u001B[0m \u001B[0margmap\u001B[0m\u001B[1;33m.\u001B[0m\u001B[0m_lazy_compile\u001B[0m\u001B[1;33m(\u001B[0m\u001B[0m__wrapper\u001B[0m\u001B[1;33m)\u001B[0m\u001B[1;33m(\u001B[0m\u001B[1;33m*\u001B[0m\u001B[0margs\u001B[0m\u001B[1;33m,\u001B[0m \u001B[1;33m**\u001B[0m\u001B[0mkwargs\u001B[0m\u001B[1;33m)\u001B[0m\u001B[1;33m\u001B[0m\u001B[1;33m\u001B[0m\u001B[0m\n\u001B[0m\u001B[0;32m    791\u001B[0m \u001B[1;33m\u001B[0m\u001B[0m\n\u001B[0;32m    792\u001B[0m         \u001B[1;32melse\u001B[0m\u001B[1;33m:\u001B[0m\u001B[1;33m\u001B[0m\u001B[1;33m\u001B[0m\u001B[0m\n",
      "\u001B[1;32m~\\Documents\\prog\\itu\\Movie_Recommendation\\venv\\Lib\\site-packages\\networkx\\utils\\decorators.py\u001B[0m in \u001B[0;36margmap__weighted_triangles_and_degree_iter_9\u001B[1;34m(G, nodes, weight)\u001B[0m\n\u001B[0;32m      2\u001B[0m \u001B[1;32mfrom\u001B[0m \u001B[0mos\u001B[0m\u001B[1;33m.\u001B[0m\u001B[0mpath\u001B[0m \u001B[1;32mimport\u001B[0m \u001B[0msplitext\u001B[0m\u001B[1;33m\u001B[0m\u001B[1;33m\u001B[0m\u001B[0m\n\u001B[0;32m      3\u001B[0m \u001B[1;32mfrom\u001B[0m \u001B[0mcontextlib\u001B[0m \u001B[1;32mimport\u001B[0m \u001B[0mcontextmanager\u001B[0m\u001B[1;33m\u001B[0m\u001B[1;33m\u001B[0m\u001B[0m\n\u001B[1;32m----> 4\u001B[1;33m \u001B[1;32mfrom\u001B[0m \u001B[0mpathlib\u001B[0m \u001B[1;32mimport\u001B[0m \u001B[0mPath\u001B[0m\u001B[1;33m\u001B[0m\u001B[1;33m\u001B[0m\u001B[0m\n\u001B[0m\u001B[0;32m      5\u001B[0m \u001B[1;32mimport\u001B[0m \u001B[0mwarnings\u001B[0m\u001B[1;33m\u001B[0m\u001B[1;33m\u001B[0m\u001B[0m\n\u001B[0;32m      6\u001B[0m \u001B[1;33m\u001B[0m\u001B[0m\n",
      "\u001B[1;32m~\\Documents\\prog\\itu\\Movie_Recommendation\\venv\\Lib\\site-packages\\networkx\\algorithms\\cluster.py\u001B[0m in \u001B[0;36m_weighted_triangles_and_degree_iter\u001B[1;34m(G, nodes, weight)\u001B[0m\n\u001B[0;32m    115\u001B[0m             \u001B[1;31m# Only compute the edge weight once, before the inner inner\u001B[0m\u001B[1;33m\u001B[0m\u001B[1;33m\u001B[0m\u001B[0m\n\u001B[0;32m    116\u001B[0m             \u001B[1;31m# loop.\u001B[0m\u001B[1;33m\u001B[0m\u001B[1;33m\u001B[0m\u001B[0m\n\u001B[1;32m--> 117\u001B[1;33m             \u001B[0mwij\u001B[0m \u001B[1;33m=\u001B[0m \u001B[0mwt\u001B[0m\u001B[1;33m(\u001B[0m\u001B[0mi\u001B[0m\u001B[1;33m,\u001B[0m \u001B[0mj\u001B[0m\u001B[1;33m)\u001B[0m\u001B[1;33m\u001B[0m\u001B[1;33m\u001B[0m\u001B[0m\n\u001B[0m\u001B[0;32m    118\u001B[0m             weighted_triangles += sum(\n\u001B[0;32m    119\u001B[0m                 \u001B[0mnp\u001B[0m\u001B[1;33m.\u001B[0m\u001B[0mcbrt\u001B[0m\u001B[1;33m(\u001B[0m\u001B[1;33m[\u001B[0m\u001B[1;33m(\u001B[0m\u001B[0mwij\u001B[0m \u001B[1;33m*\u001B[0m \u001B[0mwt\u001B[0m\u001B[1;33m(\u001B[0m\u001B[0mj\u001B[0m\u001B[1;33m,\u001B[0m \u001B[0mk\u001B[0m\u001B[1;33m)\u001B[0m \u001B[1;33m*\u001B[0m \u001B[0mwt\u001B[0m\u001B[1;33m(\u001B[0m\u001B[0mk\u001B[0m\u001B[1;33m,\u001B[0m \u001B[0mi\u001B[0m\u001B[1;33m)\u001B[0m\u001B[1;33m)\u001B[0m \u001B[1;32mfor\u001B[0m \u001B[0mk\u001B[0m \u001B[1;32min\u001B[0m \u001B[0minbrs\u001B[0m \u001B[1;33m&\u001B[0m \u001B[0mjnbrs\u001B[0m\u001B[1;33m]\u001B[0m\u001B[1;33m)\u001B[0m\u001B[1;33m\u001B[0m\u001B[1;33m\u001B[0m\u001B[0m\n",
      "\u001B[1;32m~\\Documents\\prog\\itu\\Movie_Recommendation\\venv\\Lib\\site-packages\\networkx\\algorithms\\cluster.py\u001B[0m in \u001B[0;36mwt\u001B[1;34m(u, v)\u001B[0m\n\u001B[0;32m    103\u001B[0m \u001B[1;33m\u001B[0m\u001B[0m\n\u001B[0;32m    104\u001B[0m     \u001B[1;32mdef\u001B[0m \u001B[0mwt\u001B[0m\u001B[1;33m(\u001B[0m\u001B[0mu\u001B[0m\u001B[1;33m,\u001B[0m \u001B[0mv\u001B[0m\u001B[1;33m)\u001B[0m\u001B[1;33m:\u001B[0m\u001B[1;33m\u001B[0m\u001B[1;33m\u001B[0m\u001B[0m\n\u001B[1;32m--> 105\u001B[1;33m         \u001B[1;32mreturn\u001B[0m \u001B[0mG\u001B[0m\u001B[1;33m[\u001B[0m\u001B[0mu\u001B[0m\u001B[1;33m]\u001B[0m\u001B[1;33m[\u001B[0m\u001B[0mv\u001B[0m\u001B[1;33m]\u001B[0m\u001B[1;33m.\u001B[0m\u001B[0mget\u001B[0m\u001B[1;33m(\u001B[0m\u001B[0mweight\u001B[0m\u001B[1;33m,\u001B[0m \u001B[1;36m1\u001B[0m\u001B[1;33m)\u001B[0m \u001B[1;33m/\u001B[0m \u001B[0mmax_weight\u001B[0m\u001B[1;33m\u001B[0m\u001B[1;33m\u001B[0m\u001B[0m\n\u001B[0m\u001B[0;32m    106\u001B[0m \u001B[1;33m\u001B[0m\u001B[0m\n\u001B[0;32m    107\u001B[0m     \u001B[1;32mfor\u001B[0m \u001B[0mi\u001B[0m\u001B[1;33m,\u001B[0m \u001B[0mnbrs\u001B[0m \u001B[1;32min\u001B[0m \u001B[0mnodes_nbrs\u001B[0m\u001B[1;33m:\u001B[0m\u001B[1;33m\u001B[0m\u001B[1;33m\u001B[0m\u001B[0m\n",
      "\u001B[1;31mTypeError\u001B[0m: unsupported operand type(s) for /: 'str' and 'str'"
     ]
    }
   ],
   "source": [
    "connected_components = list(nx.connected_components(G))\n",
    "num_clusters = len(connected_components) # Count the number of clusters\n",
    "print(\"Number of clusters (components):\", num_clusters)\n",
    "\n",
    "avg_cc = nx.average_clustering(G, G.nodes, \"weight\")\n",
    "print(\"Average clustering coeficient:\", avg_cc)\n"
   ],
   "metadata": {
    "collapsed": false,
    "ExecuteTime": {
     "end_time": "2023-11-22T13:02:45.054188600Z",
     "start_time": "2023-11-22T13:02:43.374666900Z"
    }
   },
   "id": "816c24c724e4536f"
  },
  {
   "cell_type": "markdown",
   "source": [
    "## Degree Distribution"
   ],
   "metadata": {
    "collapsed": false
   },
   "id": "4964804cb05837f2"
  },
  {
   "cell_type": "code",
   "execution_count": 6,
   "outputs": [],
   "source": [
    "# color"
   ],
   "metadata": {
    "collapsed": false,
    "ExecuteTime": {
     "end_time": "2023-11-22T12:58:37.050161200Z",
     "start_time": "2023-11-22T12:58:37.021407300Z"
    }
   },
   "id": "c33f51fd77b91148"
  }
 ],
 "metadata": {
  "kernelspec": {
   "display_name": "Python 3",
   "language": "python",
   "name": "python3"
  },
  "language_info": {
   "codemirror_mode": {
    "name": "ipython",
    "version": 2
   },
   "file_extension": ".py",
   "mimetype": "text/x-python",
   "name": "python",
   "nbconvert_exporter": "python",
   "pygments_lexer": "ipython2",
   "version": "2.7.6"
  }
 },
 "nbformat": 4,
 "nbformat_minor": 5
}
