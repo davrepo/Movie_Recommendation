{
 "cells": [
  {
   "cell_type": "code",
   "execution_count": 1,
   "metadata": {},
   "outputs": [
    {
     "data": {
      "text/plain": [
       "(   user_id  item_id  rating  timestamp\n",
       " 0      196      242       3  881250949\n",
       " 1      186      302       3  891717742\n",
       " 2       22      377       1  878887116\n",
       " 3      244       51       2  880606923\n",
       " 4      166      346       1  886397596,\n",
       "         genre  genre_id\n",
       " 0     unknown         0\n",
       " 1      Action         1\n",
       " 2   Adventure         2\n",
       " 3   Animation         3\n",
       " 4  Children's         4,\n",
       "    movie_id        movie_title release_date  video_release_date  \\\n",
       " 0         1   Toy Story (1995)  01-Jan-1995                 NaN   \n",
       " 1         2   GoldenEye (1995)  01-Jan-1995                 NaN   \n",
       " 2         3  Four Rooms (1995)  01-Jan-1995                 NaN   \n",
       " 3         4  Get Shorty (1995)  01-Jan-1995                 NaN   \n",
       " 4         5     Copycat (1995)  01-Jan-1995                 NaN   \n",
       " \n",
       "                                             IMDb_URL  unknown  Action  \\\n",
       " 0  http://us.imdb.com/M/title-exact?Toy%20Story%2...        0       0   \n",
       " 1  http://us.imdb.com/M/title-exact?GoldenEye%20(...        0       1   \n",
       " 2  http://us.imdb.com/M/title-exact?Four%20Rooms%...        0       0   \n",
       " 3  http://us.imdb.com/M/title-exact?Get%20Shorty%...        0       1   \n",
       " 4  http://us.imdb.com/M/title-exact?Copycat%20(1995)        0       0   \n",
       " \n",
       "    Adventure  Animation  Children's  ...  Fantasy  Film-Noir  Horror  Musical  \\\n",
       " 0          0          1           1  ...        0          0       0        0   \n",
       " 1          1          0           0  ...        0          0       0        0   \n",
       " 2          0          0           0  ...        0          0       0        0   \n",
       " 3          0          0           0  ...        0          0       0        0   \n",
       " 4          0          0           0  ...        0          0       0        0   \n",
       " \n",
       "    Mystery  Romance  Sci-Fi  Thriller  War  Western  \n",
       " 0        0        0       0         0    0        0  \n",
       " 1        0        0       0         1    0        0  \n",
       " 2        0        0       0         1    0        0  \n",
       " 3        0        0       0         0    0        0  \n",
       " 4        0        0       0         1    0        0  \n",
       " \n",
       " [5 rows x 24 columns],\n",
       "       occupation\n",
       " 0  administrator\n",
       " 1         artist\n",
       " 2         doctor\n",
       " 3       educator\n",
       " 4       engineer,\n",
       "    user_id  age gender  occupation zip_code\n",
       " 0        1   24      M  technician    85711\n",
       " 1        2   53      F       other    94043\n",
       " 2        3   23      M      writer    32067\n",
       " 3        4   24      M  technician    43537\n",
       " 4        5   33      F       other    15213)"
      ]
     },
     "execution_count": 1,
     "metadata": {},
     "output_type": "execute_result"
    }
   ],
   "source": [
    "# Import necessary libraries\n",
    "import pandas as pd\n",
    "\n",
    "# File paths\n",
    "u_data_path = 'data/raw/u.data'\n",
    "u_genre_path = 'data/raw/u.genre'\n",
    "u_item_path = 'data/raw/u.item'\n",
    "u_occupation_path = 'data/raw/u.occupation'\n",
    "u_user_path = 'data/raw/u.user'\n",
    "\n",
    "# Load data\n",
    "u_data = pd.read_csv(u_data_path, sep='\\t', names=['user_id', 'item_id', 'rating', 'timestamp'])\n",
    "u_genre = pd.read_csv(u_genre_path, sep='|', names=['genre', 'genre_id'])\n",
    "u_item = pd.read_csv(u_item_path, sep='|', encoding='latin-1', names=['movie_id', 'movie_title', 'release_date', 'video_release_date', 'IMDb_URL', 'unknown', 'Action', 'Adventure', 'Animation', 'Children\\'s', 'Comedy', 'Crime', 'Documentary', 'Drama', 'Fantasy', 'Film-Noir', 'Horror', 'Musical', 'Mystery', 'Romance', 'Sci-Fi', 'Thriller', 'War', 'Western'], header=None)\n",
    "u_occupation = pd.read_csv(u_occupation_path, names=['occupation'])\n",
    "u_user = pd.read_csv(u_user_path, sep='|', names=['user_id', 'age', 'gender', 'occupation', 'zip_code'])\n",
    "\n",
    "# Display first few rows of each data file\n",
    "(u_data.head(), u_genre.head(), u_item.head(), u_occupation.head(), u_user.head())\n"
   ]
  },
  {
   "cell_type": "markdown",
   "metadata": {},
   "source": [
    "u.data:\n",
    "\n",
    "Contains 100,000 ratings (1-5) from 943 users on 1682 movies.\n",
    "Columns: user_id, item_id, rating, timestamp.\n",
    "u.genre:\n",
    "\n",
    "Contains a list of movie genres.\n",
    "Columns: genre, genre_id.\n",
    "u.item:\n",
    "\n",
    "Contains information about the movies.\n",
    "Columns: movie_id, movie_title, release_date, video_release_date, IMDb_URL, followed by columns for each genre (1 indicates the movie is of that genre, 0 indicates it is not).\n",
    "u.occupation:\n",
    "\n",
    "Contains a list of occupations.\n",
    "u.user:\n",
    "\n",
    "Contains demographic information about the users.\n",
    "Columns: user_id, age, gender, occupation, zip_code."
   ]
  },
  {
   "cell_type": "markdown",
   "metadata": {},
   "source": [
    "Now, let's proceed to build the movie recommendation system based on network analysis. The steps to build the recommendation system are as follows:\n",
    "\n",
    "Create a bipartite graph with users and movies as two sets of nodes.\n",
    "Add edges between users and movies they have rated.\n",
    "For each movie, find its similarity with other movies based on common users who have rated both movies.\n",
    "Recommend movies to a user based on the similarity scores of movies they have rated.\n",
    "Let's start by creating the bipartite graph.​"
   ]
  },
  {
   "cell_type": "code",
   "execution_count": 2,
   "metadata": {},
   "outputs": [
    {
     "data": {
      "text/plain": [
       "(1682, 94928)"
      ]
     },
     "execution_count": 2,
     "metadata": {},
     "output_type": "execute_result"
    }
   ],
   "source": [
    "# Import necessary libraries for network analysis\n",
    "import networkx as nx\n",
    "\n",
    "# Create a bipartite graph\n",
    "B = nx.Graph()\n",
    "\n",
    "# Add nodes for users and movies\n",
    "B.add_nodes_from(u_data['user_id'], bipartite=0)  # Add user nodes with bipartite attribute 0\n",
    "B.add_nodes_from(u_data['item_id'], bipartite=1)  # Add movie nodes with bipartite attribute 1\n",
    "\n",
    "# Add edges between users and movies with ratings as edge weights\n",
    "for row in u_data.itertuples():\n",
    "    B.add_edge(row.user_id, row.item_id, weight=row.rating)\n",
    "\n",
    "# Verify the graph creation\n",
    "B.number_of_nodes(), B.number_of_edges()"
   ]
  },
  {
   "cell_type": "markdown",
   "metadata": {},
   "source": [
    "The bipartite graph has been created with \n",
    "1682\n",
    "1682 nodes (representing both users and movies) and \n",
    "94928\n",
    "94928 edges (representing user ratings for movies). Each edge has a weight corresponding to the user's rating for the movie.\n",
    "\n",
    "Next, we will proceed with finding the similarity between movies based on common users who have rated both movies. We will use the Jaccard similarity coefficient for this purpose. The Jaccard similarity between two movies is defined as the number of common users who have rated both movies divided by the total number of unique users who have rated either of the two movies. Mathematically, the Jaccard similarity between movies $A$ and $B$ is given by:\n",
    "\n",
    "\n",
    "Let's calculate the Jaccard similarity between each pair of movies.​"
   ]
  },
  {
   "cell_type": "code",
   "execution_count": 3,
   "metadata": {},
   "outputs": [
    {
     "data": {
      "text/plain": [
       "[((1, 2), 0.21711899791231734),\n",
       " ((1, 3), 0.16810344827586207),\n",
       " ((1, 4), 0.291015625),\n",
       " ((1, 5), 0.11850311850311851),\n",
       " ((1, 6), 0.03017241379310345)]"
      ]
     },
     "execution_count": 3,
     "metadata": {},
     "output_type": "execute_result"
    }
   ],
   "source": [
    "from itertools import combinations\n",
    "\n",
    "# Function to compute Jaccard similarity between two sets\n",
    "def jaccard_similarity(set1, set2):\n",
    "    intersection = len(set1.intersection(set2))\n",
    "    union = len(set1.union(set2))\n",
    "    return intersection / union if union != 0 else 0\n",
    "\n",
    "# Get the sets of users who have rated each movie\n",
    "movie_users = {movie: set(users) for movie, users in u_data.groupby('item_id')['user_id']}\n",
    "\n",
    "# Compute Jaccard similarity between each pair of movies\n",
    "movie_similarity = {}\n",
    "for movie1, movie2 in combinations(movie_users.keys(), 2):\n",
    "    similarity = jaccard_similarity(movie_users[movie1], movie_users[movie2])\n",
    "    movie_similarity[(movie1, movie2)] = similarity\n",
    "\n",
    "# Display first 5 movie similarity pairs\n",
    "list(movie_similarity.items())[:5]"
   ]
  },
  {
   "cell_type": "markdown",
   "metadata": {},
   "source": [
    "The Jaccard similarity between each pair of movies has been successfully calculated. Here are the similarity scores for the first five movie pairs:\n",
    "\n",
    "Movie 1 and Movie 2: \n",
    "0.217\n",
    "\n",
    "Movie 1 and Movie 3: \n",
    "0.168\n",
    "\n",
    "Movie 1 and Movie 4: \n",
    "0.291\n",
    "\n",
    "Movie 1 and Movie 5: \n",
    "0.119\n",
    "\n",
    "Movie 1 and Movie 6: \n",
    "0.030\n",
    "\n",
    "Next, we will proceed with recommending movies to a user based on the similarity scores of movies they have rated. To do this, we will follow these steps:\n",
    "\n",
    "For a given user, retrieve the list of movies they have rated.\n",
    "For each movie the user has rated, find its similarity with other movies based on the Jaccard similarity scores.\n",
    "Compute a weighted average of the similarity scores, with the user's ratings as weights.\n",
    "Recommend movies with the highest weighted average scores.\n",
    "Let's implement the recommendation function.​"
   ]
  },
  {
   "cell_type": "code",
   "execution_count": 7,
   "metadata": {},
   "outputs": [
    {
     "data": {
      "text/plain": [
       "array(['True Lies (1994)', 'Batman (1989)',\n",
       "       'E.T. the Extra-Terrestrial (1982)', 'Speed (1994)',\n",
       "       'Stand by Me (1986)'], dtype=object)"
      ]
     },
     "execution_count": 7,
     "metadata": {},
     "output_type": "execute_result"
    }
   ],
   "source": [
    "# Function to recommend movies to a user based on Jaccard similarity\n",
    "def recommend_movies(user_id, num_recommendations=5):\n",
    "    # Get the list of movies rated by the user\n",
    "    user_movies = u_data[u_data['user_id'] == user_id]\n",
    "    \n",
    "    # Initialize a dictionary to store the weighted average scores for each movie\n",
    "    weighted_scores = {}\n",
    "    \n",
    "    # For each movie rated by the user\n",
    "    for row in user_movies.itertuples():\n",
    "        movie1 = row.item_id\n",
    "        rating1 = row.rating\n",
    "        \n",
    "        # For each other movie\n",
    "        for movie2 in movie_users.keys():\n",
    "            if movie1 != movie2:\n",
    "                # Get the Jaccard similarity between the two movies\n",
    "                similarity = movie_similarity.get((min(movie1, movie2), max(movie1, movie2)), 0)\n",
    "                \n",
    "                # Compute the weighted average score for movie2\n",
    "                if movie2 not in weighted_scores:\n",
    "                    weighted_scores[movie2] = 0\n",
    "                weighted_scores[movie2] += similarity * rating1\n",
    "    \n",
    "    # Sort movies by weighted average scores in descending order\n",
    "    recommended_movies = sorted(weighted_scores, key=weighted_scores.get, reverse=True)\n",
    "    \n",
    "    # Filter out movies already rated by the user\n",
    "    recommended_movies = [movie for movie in recommended_movies if movie not in user_movies['item_id'].values]\n",
    "    \n",
    "    # Get the top N recommended movies\n",
    "    top_movies = recommended_movies[:num_recommendations]\n",
    "    \n",
    "    # Return the movie titles of the top recommended movies\n",
    "    return u_item[u_item['movie_id'].isin(top_movies)]['movie_title'].values\n",
    "\n",
    "# Test the recommendation function for a user\n",
    "recommended_movies = recommend_movies(user_id=1, num_recommendations=5)\n",
    "recommended_movies\n"
   ]
  },
  {
   "cell_type": "markdown",
   "metadata": {},
   "source": [
    "These recommendations are based on the Jaccard similarity between movies rated by the user and other movies, with the user's ratings as weights. The movies with the highest weighted average scores are recommended to the user.\n",
    "\n",
    "Feel free to test the recommendation function with other user IDs or change the number of recommended movies. If you have any other questions or need further assistance, please let me know!​"
   ]
  },
  {
   "cell_type": "markdown",
   "metadata": {},
   "source": [
    "Did you take user ratings into consideration? rating ranges from 1 to 5, where 1 is the worst. Also, did you take user metadata and movie metadata into consideration?\n",
    "\n",
    "The user ratings were taken into consideration when calculating the weighted average scores for movie recommendations. Each movie's weighted score was calculated as the sum of the product of its similarity with other movies and the user's rating for those other movies. However, the range of the ratings (1 to 5) was not normalized, so a low rating could still contribute to a high weighted score if the movie is highly similar to others that the user rated highly.\n",
    "\n",
    "The user metadata (age, gender, occupation, zip code) and movie metadata (release date, genres) were not used in the current implementation of the recommendation system. Incorporating these metadata could potentially improve the accuracy of the recommendations by taking into account the user's demographic information and the movie's characteristics."
   ]
  },
  {
   "cell_type": "markdown",
   "metadata": {},
   "source": [
    "To improve the movie recommendation system, we can incorporate user metadata (age, gender, occupation, and zip code) and movie metadata (release date and genres) in the following ways:\n",
    "\n",
    "User Metadata: We can create user similarity based on their demographic information. For example, we can calculate similarity between users based on their age, gender, occupation, and zip code. This will allow us to recommend movies that are popular among users with similar demographics.\n",
    "\n",
    "Movie Metadata: We can create movie similarity based on their release date and genres. For example, we can calculate similarity between movies based on their release year and genres. This will allow us to recommend movies that are similar in terms of content and theme.\n",
    "\n",
    "Here are the steps to incorporate user metadata and movie metadata into the recommendation system:\n",
    "\n",
    "Calculate user similarity based on user metadata.\n",
    "Calculate movie similarity based on movie metadata.\n",
    "For each user, calculate the weighted average score for each movie based on user similarity, movie similarity, and user ratings.\n",
    "Recommend movies with the highest weighted average scores to the user.\n",
    "Let's start by calculating user similarity based on user metadata."
   ]
  },
  {
   "cell_type": "code",
   "execution_count": 8,
   "metadata": {},
   "outputs": [
    {
     "name": "stderr",
     "output_type": "stream",
     "text": [
      "c:\\Users\\jackh\\AppData\\Local\\Programs\\Python\\Python310\\lib\\site-packages\\scipy\\__init__.py:177: UserWarning: A NumPy version >=1.18.5 and <1.26.0 is required for this version of SciPy (detected version 1.26.1\n",
      "  warnings.warn(f\"A NumPy version >={np_minversion} and <{np_maxversion}\"\n"
     ]
    },
    {
     "data": {
      "text/plain": [
       "array([[1.        , 0.99992418, 0.99905407, 0.99963919, 0.99776166],\n",
       "       [0.99992418, 1.        , 0.99846133, 0.9992442 , 0.99691083],\n",
       "       [0.99905407, 0.99846133, 1.        , 0.99986162, 0.99971351],\n",
       "       [0.99963919, 0.9992442 , 0.99986162, 1.        , 0.99919003],\n",
       "       [0.99776166, 0.99691083, 0.99971351, 0.99919003, 1.        ]])"
      ]
     },
     "execution_count": 8,
     "metadata": {},
     "output_type": "execute_result"
    }
   ],
   "source": [
    "from sklearn.metrics.pairwise import cosine_similarity\n",
    "from sklearn.preprocessing import LabelEncoder, StandardScaler\n",
    "\n",
    "# Encode categorical variables\n",
    "label_encoder = LabelEncoder()\n",
    "u_user['gender'] = label_encoder.fit_transform(u_user['gender'])\n",
    "u_user['occupation'] = label_encoder.fit_transform(u_user['occupation'])\n",
    "u_user['zip_code'] = label_encoder.fit_transform(u_user['zip_code'])\n",
    "\n",
    "# Scale numerical variables\n",
    "scaler = StandardScaler()\n",
    "u_user['age'] = scaler.fit_transform(u_user['age'].values.reshape(-1, 1))\n",
    "\n",
    "# Calculate cosine similarity between users based on user metadata\n",
    "user_similarity_metadata = cosine_similarity(u_user[['age', 'gender', 'occupation', 'zip_code']])\n",
    "\n",
    "# Display user similarity matrix\n",
    "user_similarity_metadata[:5, :5]"
   ]
  },
  {
   "cell_type": "markdown",
   "metadata": {},
   "source": [
    "User similarity based on user metadata has been successfully calculated using cosine similarity. The resulting matrix\n",
    "user_similarity_metadata contains the similarity scores between each pair of users, where a score of 1 indicates identical users and a score of 0 indicates completely dissimilar users.\n",
    "\n",
    "Next, we will calculate movie similarity based on movie metadata. For this, we will use the release date and genres of the movies. We will calculate the similarity between movies based on their release year and genres. Let's proceed with this step.​"
   ]
  },
  {
   "cell_type": "code",
   "execution_count": 9,
   "metadata": {},
   "outputs": [
    {
     "data": {
      "text/plain": [
       "array([[1.        , 0.04916204, 0.08125036, 0.36610803, 0.04916204],\n",
       "       [0.04916204, 1.        , 0.60506861, 0.36610803, 0.36610803],\n",
       "       [0.08125036, 0.60506861, 1.        , 0.08125036, 0.60506861],\n",
       "       [0.36610803, 0.36610803, 0.08125036, 1.        , 0.36610803],\n",
       "       [0.04916204, 0.36610803, 0.60506861, 0.36610803, 1.        ]])"
      ]
     },
     "execution_count": 9,
     "metadata": {},
     "output_type": "execute_result"
    }
   ],
   "source": [
    "# Extract release year from release date\n",
    "u_item['release_year'] = pd.to_datetime(u_item['release_date'], errors='coerce').dt.year\n",
    "\n",
    "# Handle missing release years\n",
    "u_item['release_year'] = u_item['release_year'].fillna(u_item['release_year'].median())\n",
    "\n",
    "# Scale release year\n",
    "scaler = StandardScaler()\n",
    "u_item['release_year'] = scaler.fit_transform(u_item['release_year'].values.reshape(-1, 1))\n",
    "\n",
    "# Extract genre columns\n",
    "genre_columns = ['unknown', 'Action', 'Adventure', 'Animation', 'Children\\'s', 'Comedy', 'Crime', 'Documentary', 'Drama', 'Fantasy', 'Film-Noir', 'Horror', 'Musical', 'Mystery', 'Romance', 'Sci-Fi', 'Thriller', 'War', 'Western']\n",
    "u_item_genres = u_item[genre_columns]\n",
    "\n",
    "# Calculate cosine similarity between movies based on release year and genres\n",
    "movie_similarity_metadata = cosine_similarity(u_item[['release_year']].join(u_item_genres))\n",
    "\n",
    "# Display movie similarity matrix\n",
    "movie_similarity_metadata[:5, :5]"
   ]
  },
  {
   "cell_type": "markdown",
   "metadata": {},
   "source": [
    "Movie similarity based on movie metadata (release year and genres) has been successfully calculated using cosine similarity. The resulting matrix movie_similarity_metadata contains the similarity scores between each pair of movies.\n",
    "\n",
    "Now, we will update the movie recommendation function to incorporate user similarity based on user metadata and movie similarity based on movie metadata. For each user, we will calculate the weighted average score for each movie based on user similarity, movie similarity, and user ratings. The recommended movies will be those with the highest weighted average scores."
   ]
  },
  {
   "cell_type": "code",
   "execution_count": 15,
   "metadata": {},
   "outputs": [
    {
     "data": {
      "text/plain": [
       "array(['Adventures of Priscilla, Queen of the Desert, The (1994)',\n",
       "       'Sirens (1994)', 'Stefano Quantestorie (1993)',\n",
       "       'Bhaji on the Beach (1993)', 'Slingshot, The (1993)'], dtype=object)"
      ]
     },
     "execution_count": 15,
     "metadata": {},
     "output_type": "execute_result"
    }
   ],
   "source": [
    "def recommend_movies_with_metadata(user_id, num_recommendations=5):\n",
    "    # Get the list of movies rated by the user\n",
    "    user_movies = u_data[u_data['user_id'] == user_id]\n",
    "    \n",
    "    # Initialize a dictionary to store the weighted average scores for each movie\n",
    "    weighted_scores = {}\n",
    "    \n",
    "    # Get user index for user similarity matrix\n",
    "    user_index = u_user[u_user['user_id'] == user_id].index[0]\n",
    "    \n",
    "    # For each movie rated by the user\n",
    "    for row in user_movies.itertuples():\n",
    "        movie1 = row.item_id\n",
    "        rating1 = row.rating\n",
    "        \n",
    "        # For each other movie\n",
    "        for movie2 in movie_users.keys():\n",
    "            if movie1 != movie2:\n",
    "                # Get user similarity with other users who have rated movie2\n",
    "                user_similarity = user_similarity_metadata[user_index, :]\n",
    "                \n",
    "                # Get movie similarity based on metadata\n",
    "                movie_similarity = movie_similarity_metadata[movie1 - 1, movie2 - 1]\n",
    "                \n",
    "                # Compute the weighted average score for movie2\n",
    "                if movie2 not in weighted_scores:\n",
    "                    weighted_scores[movie2] = 0\n",
    "                weighted_scores[movie2] += np.sum(user_similarity) * movie_similarity * rating1\n",
    "    \n",
    "    # Sort movies by weighted average scores in descending order\n",
    "    recommended_movies = sorted(weighted_scores, key=weighted_scores.get, reverse=True)\n",
    "    \n",
    "    # Filter out movies already rated by the user\n",
    "    recommended_movies = [movie for movie in recommended_movies if movie not in user_movies['item_id'].values]\n",
    "    \n",
    "    # Get the top N recommended movies\n",
    "    top_movies = recommended_movies[:num_recommendations]\n",
    "    \n",
    "    # Return the movie titles of the top recommended movies\n",
    "    return u_item[u_item['movie_id'].isin(top_movies)]['movie_title'].values\n",
    "\n",
    "# Test the recommendation function with user metadata and movie metadata\n",
    "recommended_movies_with_metadata = recommend_movies_with_metadata(user_id=1, num_recommendations=5)\n",
    "recommended_movies_with_metadata"
   ]
  },
  {
   "cell_type": "markdown",
   "metadata": {},
   "source": [
    "Here are the top 5 recommended movies for user with ID 1, considering user metadata and movie metadata:\n",
    "\n",
    "Adventures of Priscilla, Queen of the Desert, The (1994)\n",
    "Sirens (1994)\n",
    "Stefano Quantestorie (1993)\n",
    "Bhaji on the Beach (1993)\n",
    "Slingshot, The (1993)\n",
    "These recommendations are based on user similarity (considering age, gender, occupation, and zip code), movie similarity (considering release year and genres), and user ratings. The movies with the highest weighted average scores are recommended to the user.\n",
    "\n",
    "Feel free to test the recommendation function with other user IDs or change the number of recommended movies. If you have any other questions or need further assistance, please let me know!​"
   ]
  },
  {
   "cell_type": "markdown",
   "metadata": {},
   "source": [
    "Great! Let's proceed with the following steps:\n",
    "\n",
    "Project the bipartite graph to a one-mode graph using the hyperbolic algorithm.\n",
    "Apply the disparity filter algorithm to extract the network backbone from the projected graph.\n",
    "Analyze the backboned graph vs. the original projected graph.\n",
    "Discover communities in the backboned graph.\n",
    "Analyze the communities in terms of the metadata we have.\n",
    "Let's start with the first step: projecting the bipartite graph to a one-mode graph using the hyperbolic algorithm.\n",
    "\n",
    "To apply the hyperbolic projection, we need to perform the following steps:\n",
    "\n",
    "For each pair of movies, calculate the hyperbolic distance between them based on the user ratings. The hyperbolic distance can be calculated using the formula:"
   ]
  },
  {
   "attachments": {
    "image.png": {
     "image/png": "[encoded data removed]"
    }
   },
   "cell_type": "markdown",
   "metadata": {},
   "source": [
    "![image.png](attachment:image.png)"
   ]
  },
  {
   "cell_type": "markdown",
   "metadata": {},
   "source": [
    "Create a new graph with movies as nodes and edges between them weighted by the inverse of the hyperbolic distance.\n",
    "\n",
    "Let's start by calculating the hyperbolic distances between each pair of movies.\n",
    "\n"
   ]
  },
  {
   "cell_type": "code",
   "execution_count": 16,
   "metadata": {},
   "outputs": [
    {
     "name": "stderr",
     "output_type": "stream",
     "text": [
      "C:\\Users\\jackh\\AppData\\Local\\Temp\\ipykernel_14196\\1864435967.py:14: RuntimeWarning: divide by zero encountered in divide\n",
      "  hyperbolic_distances = np.arccosh(1 + 2 * (average_ratings_matrix - average_ratings_matrix.T)**2 / ((1 - average_ratings_matrix**2) * (1 - average_ratings_matrix.T**2)))\n",
      "C:\\Users\\jackh\\AppData\\Local\\Temp\\ipykernel_14196\\1864435967.py:14: RuntimeWarning: invalid value encountered in divide\n",
      "  hyperbolic_distances = np.arccosh(1 + 2 * (average_ratings_matrix - average_ratings_matrix.T)**2 / ((1 - average_ratings_matrix**2) * (1 - average_ratings_matrix.T**2)))\n",
      "C:\\Users\\jackh\\AppData\\Local\\Temp\\ipykernel_14196\\1864435967.py:14: RuntimeWarning: invalid value encountered in arccosh\n",
      "  hyperbolic_distances = np.arccosh(1 + 2 * (average_ratings_matrix - average_ratings_matrix.T)**2 / ((1 - average_ratings_matrix**2) * (1 - average_ratings_matrix.T**2)))\n",
      "C:\\Users\\jackh\\AppData\\Local\\Temp\\ipykernel_14196\\1864435967.py:23: RuntimeWarning: divide by zero encountered in scalar divide\n",
      "  G_hyperbolic.add_edge(i + 1, j + 1, weight=1 / hyperbolic_distances[i, j])\n"
     ]
    },
    {
     "data": {
      "text/plain": [
       "(1682, 1413721)"
      ]
     },
     "execution_count": 16,
     "metadata": {},
     "output_type": "execute_result"
    }
   ],
   "source": [
    "from scipy.spatial.distance import pdist, squareform\n",
    "\n",
    "# Get the average rating for each movie\n",
    "average_ratings = u_data.groupby('item_id')['rating'].mean()\n",
    "\n",
    "# Create a matrix with average ratings for each pair of movies\n",
    "average_ratings_matrix = np.zeros((len(average_ratings), len(average_ratings)))\n",
    "for i, rating_i in enumerate(average_ratings):\n",
    "    for j, rating_j in enumerate(average_ratings):\n",
    "        average_ratings_matrix[i, j] = rating_i\n",
    "        average_ratings_matrix[j, i] = rating_j\n",
    "\n",
    "# Calculate the hyperbolic distance between each pair of movies\n",
    "hyperbolic_distances = np.arccosh(1 + 2 * (average_ratings_matrix - average_ratings_matrix.T)**2 / ((1 - average_ratings_matrix**2) * (1 - average_ratings_matrix.T**2)))\n",
    "\n",
    "# Replace infinities with large number\n",
    "hyperbolic_distances[np.isinf(hyperbolic_distances)] = 1e6\n",
    "\n",
    "# Create a graph with movies as nodes and hyperbolic distances as edge weights\n",
    "G_hyperbolic = nx.Graph()\n",
    "for i in range(len(average_ratings)):\n",
    "    for j in range(i + 1, len(average_ratings)):\n",
    "        G_hyperbolic.add_edge(i + 1, j + 1, weight=1 / hyperbolic_distances[i, j])\n",
    "\n",
    "# Verify the graph creation\n",
    "G_hyperbolic.number_of_nodes(), G_hyperbolic.number_of_edges()"
   ]
  },
  {
   "cell_type": "markdown",
   "metadata": {},
   "source": [
    "The hyperbolic projection graph has been created with 1682 nodes (representing movies) and 1413721 edges (representing the hyperbolic distances between movies). Each edge has a weight corresponding to the inverse of the hyperbolic distance between two movies.\n",
    "\n",
    "Next, we will proceed with the second step: applying the disparity filter algorithm to extract the network backbone from the projected graph. The disparity filter algorithm works by keeping only the significant edges that represent strong relationships between nodes, and removing edges that can be explained by the node's degree. Let's proceed with this step.​"
   ]
  },
  {
   "cell_type": "markdown",
   "metadata": {},
   "source": [
    "Great! Let's proceed with Graph Sampling. In this approach, we will create a sample of the graph by randomly selecting a subset of nodes and their edges. This will reduce the size of the graph and the memory required for processing. Here are the steps we will follow:\n",
    "\n",
    "Randomly sample a subset of nodes from the graph.\n",
    "Create a subgraph with the sampled nodes and their edges.\n",
    "Apply the disparity filter algorithm to extract the network backbone from the sampled graph.\n",
    "Analyze the backboned graph vs. the original sampled graph.\n",
    "Discover communities in the backboned graph.\n",
    "Analyze the communities in terms of the metadata we have."
   ]
  },
  {
   "cell_type": "code",
   "execution_count": 17,
   "metadata": {},
   "outputs": [
    {
     "data": {
      "text/plain": [
       "(168, 14028)"
      ]
     },
     "execution_count": 17,
     "metadata": {},
     "output_type": "execute_result"
    }
   ],
   "source": [
    "import random\n",
    "\n",
    "def sample_graph(G, fraction=0.1):\n",
    "    \"\"\"\n",
    "    Create a sample of a graph by randomly selecting a subset of nodes and their edges.\n",
    "    \n",
    "    Parameters:\n",
    "    G (networkx.Graph): The graph to be sampled.\n",
    "    fraction (float): The fraction of nodes to be included in the sample.\n",
    "    \n",
    "    Returns:\n",
    "    networkx.Graph: The sampled graph.\n",
    "    \"\"\"\n",
    "    # Randomly sample a subset of nodes\n",
    "    nodes = list(G.nodes())\n",
    "    sampled_nodes = random.sample(nodes, int(fraction * len(nodes)))\n",
    "    \n",
    "    # Create a subgraph with the sampled nodes and their edges\n",
    "    sampled_graph = G.subgraph(sampled_nodes)\n",
    "    \n",
    "    return sampled_graph\n",
    "\n",
    "# Create a sample of the graph\n",
    "G_sampled = sample_graph(G_hyperbolic, fraction=0.1)\n",
    "\n",
    "# Verify the size of the sampled graph\n",
    "G_sampled.number_of_nodes(), G_sampled.number_of_edges()\n"
   ]
  },
  {
   "cell_type": "markdown",
   "metadata": {},
   "source": [
    "The sampled graph has been created with 168 nodes and 14028 edges, which is a more manageable size for processing.\n",
    "\n",
    "Next, we will proceed with the third step: applying the disparity filter algorithm to extract the network backbone from the sampled graph. Let's proceed with this step."
   ]
  }
 ],
 "metadata": {
  "kernelspec": {
   "display_name": "Python 3",
   "language": "python",
   "name": "python3"
  },
  "language_info": {
   "codemirror_mode": {
    "name": "ipython",
    "version": 3
   },
   "file_extension": ".py",
   "mimetype": "text/x-python",
   "name": "python",
   "nbconvert_exporter": "python",
   "pygments_lexer": "ipython3",
   "version": "3.10.10"
  }
 },
 "nbformat": 4,
 "nbformat_minor": 2
}
